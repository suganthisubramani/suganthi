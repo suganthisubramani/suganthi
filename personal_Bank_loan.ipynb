{
  "nbformat": 4,
  "nbformat_minor": 0,
  "metadata": {
    "colab": {
      "name": "personal_Bank_loan.ipynb",
      "provenance": [],
      "collapsed_sections": []
    },
    "kernelspec": {
      "name": "python3",
      "display_name": "Python 3"
    },
    "language_info": {
      "name": "python"
    }
  },
  "cells": [
    {
      "cell_type": "markdown",
      "source": [
        "# PERSONAL LOAN PROJECT "
      ],
      "metadata": {
        "id": "0naAddFm73hZ"
      }
    },
    {
      "cell_type": "code",
      "source": [
        "from google.colab import drive\n",
        "drive.mount('/content/drive')"
      ],
      "metadata": {
        "colab": {
          "base_uri": "https://localhost:8080/"
        },
        "id": "LlFICsC07lH8",
        "outputId": "96436d02-2476-4d04-8068-67050aa8b9e2"
      },
      "execution_count": null,
      "outputs": [
        {
          "output_type": "stream",
          "name": "stdout",
          "text": [
            "Drive already mounted at /content/drive; to attempt to forcibly remount, call drive.mount(\"/content/drive\", force_remount=True).\n"
          ]
        }
      ]
    },
    {
      "cell_type": "markdown",
      "source": [
        ""
      ],
      "metadata": {
        "id": "dgsx5IztyA_p"
      }
    },
    {
      "cell_type": "code",
      "execution_count": null,
      "metadata": {
        "id": "HwfH4-946eUD"
      },
      "outputs": [],
      "source": [
        "#importing  required dependencies "
      ]
    },
    {
      "cell_type": "markdown",
      "source": [
        "## IMPORTING LIBRARIES :"
      ],
      "metadata": {
        "id": "3QeYMunxXcIr"
      }
    },
    {
      "cell_type": "code",
      "source": [
        "import numpy as np\n",
        "import pandas as pd\n",
        "import matplotlib.pyplot as plt\n",
        "import seaborn as sns"
      ],
      "metadata": {
        "id": "zf_JZ7WN7Elj"
      },
      "execution_count": null,
      "outputs": []
    },
    {
      "cell_type": "code",
      "source": [
        ""
      ],
      "metadata": {
        "id": "T9C1IM8qXk3Y"
      },
      "execution_count": null,
      "outputs": []
    },
    {
      "cell_type": "markdown",
      "source": [
        "## IMPORTING DATASET : "
      ],
      "metadata": {
        "id": "AR12Vl0lXlWR"
      }
    },
    {
      "cell_type": "code",
      "source": [
        "df=pd.read_csv(\"/content/drive/MyDrive/Bank_Personal_Loan_Modelling-1.csv\")"
      ],
      "metadata": {
        "id": "bVnvz6x57EoL"
      },
      "execution_count": null,
      "outputs": []
    },
    {
      "cell_type": "code",
      "source": [
        "df.head()"
      ],
      "metadata": {
        "id": "jBFAvQiY7Ev_",
        "colab": {
          "base_uri": "https://localhost:8080/",
          "height": 206
        },
        "outputId": "a313034a-f5ad-41c2-f709-6e3b38496201"
      },
      "execution_count": null,
      "outputs": [
        {
          "output_type": "execute_result",
          "data": {
            "text/plain": [
              "   ID  Age  Experience  Income  ZIP Code  Family  CCAvg  Education  Mortgage  \\\n",
              "0   1   25           1      49     91107       4    1.6          1         0   \n",
              "1   2   45          19      34     90089       3    1.5          1         0   \n",
              "2   3   39          15      11     94720       1    1.0          1         0   \n",
              "3   4   35           9     100     94112       1    2.7          2         0   \n",
              "4   5   35           8      45     91330       4    1.0          2         0   \n",
              "\n",
              "   Personal Loan  Securities Account  CD Account  Online  CreditCard  \n",
              "0              0                   1           0       0           0  \n",
              "1              0                   1           0       0           0  \n",
              "2              0                   0           0       0           0  \n",
              "3              0                   0           0       0           0  \n",
              "4              0                   0           0       0           1  "
            ],
            "text/html": [
              "\n",
              "  <div id=\"df-bcbc115b-4336-4952-bbcf-361afef63c3c\">\n",
              "    <div class=\"colab-df-container\">\n",
              "      <div>\n",
              "<style scoped>\n",
              "    .dataframe tbody tr th:only-of-type {\n",
              "        vertical-align: middle;\n",
              "    }\n",
              "\n",
              "    .dataframe tbody tr th {\n",
              "        vertical-align: top;\n",
              "    }\n",
              "\n",
              "    .dataframe thead th {\n",
              "        text-align: right;\n",
              "    }\n",
              "</style>\n",
              "<table border=\"1\" class=\"dataframe\">\n",
              "  <thead>\n",
              "    <tr style=\"text-align: right;\">\n",
              "      <th></th>\n",
              "      <th>ID</th>\n",
              "      <th>Age</th>\n",
              "      <th>Experience</th>\n",
              "      <th>Income</th>\n",
              "      <th>ZIP Code</th>\n",
              "      <th>Family</th>\n",
              "      <th>CCAvg</th>\n",
              "      <th>Education</th>\n",
              "      <th>Mortgage</th>\n",
              "      <th>Personal Loan</th>\n",
              "      <th>Securities Account</th>\n",
              "      <th>CD Account</th>\n",
              "      <th>Online</th>\n",
              "      <th>CreditCard</th>\n",
              "    </tr>\n",
              "  </thead>\n",
              "  <tbody>\n",
              "    <tr>\n",
              "      <th>0</th>\n",
              "      <td>1</td>\n",
              "      <td>25</td>\n",
              "      <td>1</td>\n",
              "      <td>49</td>\n",
              "      <td>91107</td>\n",
              "      <td>4</td>\n",
              "      <td>1.6</td>\n",
              "      <td>1</td>\n",
              "      <td>0</td>\n",
              "      <td>0</td>\n",
              "      <td>1</td>\n",
              "      <td>0</td>\n",
              "      <td>0</td>\n",
              "      <td>0</td>\n",
              "    </tr>\n",
              "    <tr>\n",
              "      <th>1</th>\n",
              "      <td>2</td>\n",
              "      <td>45</td>\n",
              "      <td>19</td>\n",
              "      <td>34</td>\n",
              "      <td>90089</td>\n",
              "      <td>3</td>\n",
              "      <td>1.5</td>\n",
              "      <td>1</td>\n",
              "      <td>0</td>\n",
              "      <td>0</td>\n",
              "      <td>1</td>\n",
              "      <td>0</td>\n",
              "      <td>0</td>\n",
              "      <td>0</td>\n",
              "    </tr>\n",
              "    <tr>\n",
              "      <th>2</th>\n",
              "      <td>3</td>\n",
              "      <td>39</td>\n",
              "      <td>15</td>\n",
              "      <td>11</td>\n",
              "      <td>94720</td>\n",
              "      <td>1</td>\n",
              "      <td>1.0</td>\n",
              "      <td>1</td>\n",
              "      <td>0</td>\n",
              "      <td>0</td>\n",
              "      <td>0</td>\n",
              "      <td>0</td>\n",
              "      <td>0</td>\n",
              "      <td>0</td>\n",
              "    </tr>\n",
              "    <tr>\n",
              "      <th>3</th>\n",
              "      <td>4</td>\n",
              "      <td>35</td>\n",
              "      <td>9</td>\n",
              "      <td>100</td>\n",
              "      <td>94112</td>\n",
              "      <td>1</td>\n",
              "      <td>2.7</td>\n",
              "      <td>2</td>\n",
              "      <td>0</td>\n",
              "      <td>0</td>\n",
              "      <td>0</td>\n",
              "      <td>0</td>\n",
              "      <td>0</td>\n",
              "      <td>0</td>\n",
              "    </tr>\n",
              "    <tr>\n",
              "      <th>4</th>\n",
              "      <td>5</td>\n",
              "      <td>35</td>\n",
              "      <td>8</td>\n",
              "      <td>45</td>\n",
              "      <td>91330</td>\n",
              "      <td>4</td>\n",
              "      <td>1.0</td>\n",
              "      <td>2</td>\n",
              "      <td>0</td>\n",
              "      <td>0</td>\n",
              "      <td>0</td>\n",
              "      <td>0</td>\n",
              "      <td>0</td>\n",
              "      <td>1</td>\n",
              "    </tr>\n",
              "  </tbody>\n",
              "</table>\n",
              "</div>\n",
              "      <button class=\"colab-df-convert\" onclick=\"convertToInteractive('df-bcbc115b-4336-4952-bbcf-361afef63c3c')\"\n",
              "              title=\"Convert this dataframe to an interactive table.\"\n",
              "              style=\"display:none;\">\n",
              "        \n",
              "  <svg xmlns=\"http://www.w3.org/2000/svg\" height=\"24px\"viewBox=\"0 0 24 24\"\n",
              "       width=\"24px\">\n",
              "    <path d=\"M0 0h24v24H0V0z\" fill=\"none\"/>\n",
              "    <path d=\"M18.56 5.44l.94 2.06.94-2.06 2.06-.94-2.06-.94-.94-2.06-.94 2.06-2.06.94zm-11 1L8.5 8.5l.94-2.06 2.06-.94-2.06-.94L8.5 2.5l-.94 2.06-2.06.94zm10 10l.94 2.06.94-2.06 2.06-.94-2.06-.94-.94-2.06-.94 2.06-2.06.94z\"/><path d=\"M17.41 7.96l-1.37-1.37c-.4-.4-.92-.59-1.43-.59-.52 0-1.04.2-1.43.59L10.3 9.45l-7.72 7.72c-.78.78-.78 2.05 0 2.83L4 21.41c.39.39.9.59 1.41.59.51 0 1.02-.2 1.41-.59l7.78-7.78 2.81-2.81c.8-.78.8-2.07 0-2.86zM5.41 20L4 18.59l7.72-7.72 1.47 1.35L5.41 20z\"/>\n",
              "  </svg>\n",
              "      </button>\n",
              "      \n",
              "  <style>\n",
              "    .colab-df-container {\n",
              "      display:flex;\n",
              "      flex-wrap:wrap;\n",
              "      gap: 12px;\n",
              "    }\n",
              "\n",
              "    .colab-df-convert {\n",
              "      background-color: #E8F0FE;\n",
              "      border: none;\n",
              "      border-radius: 50%;\n",
              "      cursor: pointer;\n",
              "      display: none;\n",
              "      fill: #1967D2;\n",
              "      height: 32px;\n",
              "      padding: 0 0 0 0;\n",
              "      width: 32px;\n",
              "    }\n",
              "\n",
              "    .colab-df-convert:hover {\n",
              "      background-color: #E2EBFA;\n",
              "      box-shadow: 0px 1px 2px rgba(60, 64, 67, 0.3), 0px 1px 3px 1px rgba(60, 64, 67, 0.15);\n",
              "      fill: #174EA6;\n",
              "    }\n",
              "\n",
              "    [theme=dark] .colab-df-convert {\n",
              "      background-color: #3B4455;\n",
              "      fill: #D2E3FC;\n",
              "    }\n",
              "\n",
              "    [theme=dark] .colab-df-convert:hover {\n",
              "      background-color: #434B5C;\n",
              "      box-shadow: 0px 1px 3px 1px rgba(0, 0, 0, 0.15);\n",
              "      filter: drop-shadow(0px 1px 2px rgba(0, 0, 0, 0.3));\n",
              "      fill: #FFFFFF;\n",
              "    }\n",
              "  </style>\n",
              "\n",
              "      <script>\n",
              "        const buttonEl =\n",
              "          document.querySelector('#df-bcbc115b-4336-4952-bbcf-361afef63c3c button.colab-df-convert');\n",
              "        buttonEl.style.display =\n",
              "          google.colab.kernel.accessAllowed ? 'block' : 'none';\n",
              "\n",
              "        async function convertToInteractive(key) {\n",
              "          const element = document.querySelector('#df-bcbc115b-4336-4952-bbcf-361afef63c3c');\n",
              "          const dataTable =\n",
              "            await google.colab.kernel.invokeFunction('convertToInteractive',\n",
              "                                                     [key], {});\n",
              "          if (!dataTable) return;\n",
              "\n",
              "          const docLinkHtml = 'Like what you see? Visit the ' +\n",
              "            '<a target=\"_blank\" href=https://colab.research.google.com/notebooks/data_table.ipynb>data table notebook</a>'\n",
              "            + ' to learn more about interactive tables.';\n",
              "          element.innerHTML = '';\n",
              "          dataTable['output_type'] = 'display_data';\n",
              "          await google.colab.output.renderOutput(dataTable, element);\n",
              "          const docLink = document.createElement('div');\n",
              "          docLink.innerHTML = docLinkHtml;\n",
              "          element.appendChild(docLink);\n",
              "        }\n",
              "      </script>\n",
              "    </div>\n",
              "  </div>\n",
              "  "
            ]
          },
          "metadata": {},
          "execution_count": 64
        }
      ]
    },
    {
      "cell_type": "code",
      "source": [
        "df.info()"
      ],
      "metadata": {
        "id": "J7CuE8wK7Ey1",
        "colab": {
          "base_uri": "https://localhost:8080/"
        },
        "outputId": "05daa7f5-0de7-410c-cbeb-0fe232fe0137"
      },
      "execution_count": null,
      "outputs": [
        {
          "output_type": "stream",
          "name": "stdout",
          "text": [
            "<class 'pandas.core.frame.DataFrame'>\n",
            "RangeIndex: 5000 entries, 0 to 4999\n",
            "Data columns (total 14 columns):\n",
            " #   Column              Non-Null Count  Dtype  \n",
            "---  ------              --------------  -----  \n",
            " 0   ID                  5000 non-null   int64  \n",
            " 1   Age                 5000 non-null   int64  \n",
            " 2   Experience          5000 non-null   int64  \n",
            " 3   Income              5000 non-null   int64  \n",
            " 4   ZIP Code            5000 non-null   int64  \n",
            " 5   Family              5000 non-null   int64  \n",
            " 6   CCAvg               5000 non-null   float64\n",
            " 7   Education           5000 non-null   int64  \n",
            " 8   Mortgage            5000 non-null   int64  \n",
            " 9   Personal Loan       5000 non-null   int64  \n",
            " 10  Securities Account  5000 non-null   int64  \n",
            " 11  CD Account          5000 non-null   int64  \n",
            " 12  Online              5000 non-null   int64  \n",
            " 13  CreditCard          5000 non-null   int64  \n",
            "dtypes: float64(1), int64(13)\n",
            "memory usage: 547.0 KB\n"
          ]
        }
      ]
    },
    {
      "cell_type": "code",
      "source": [
        "df.describe().T"
      ],
      "metadata": {
        "id": "S4OyuMPo7E1p",
        "colab": {
          "base_uri": "https://localhost:8080/",
          "height": 488
        },
        "outputId": "248f21c8-c572-4a68-c7cc-f871eeb32d1d"
      },
      "execution_count": null,
      "outputs": [
        {
          "output_type": "execute_result",
          "data": {
            "text/plain": [
              "                     count          mean          std     min       25%  \\\n",
              "ID                  5000.0   2500.500000  1443.520003     1.0   1250.75   \n",
              "Age                 5000.0     45.338400    11.463166    23.0     35.00   \n",
              "Experience          5000.0     20.104600    11.467954    -3.0     10.00   \n",
              "Income              5000.0     73.774200    46.033729     8.0     39.00   \n",
              "ZIP Code            5000.0  93152.503000  2121.852197  9307.0  91911.00   \n",
              "Family              5000.0      2.396400     1.147663     1.0      1.00   \n",
              "CCAvg               5000.0      1.937938     1.747659     0.0      0.70   \n",
              "Education           5000.0      1.881000     0.839869     1.0      1.00   \n",
              "Mortgage            5000.0     56.498800   101.713802     0.0      0.00   \n",
              "Personal Loan       5000.0      0.096000     0.294621     0.0      0.00   \n",
              "Securities Account  5000.0      0.104400     0.305809     0.0      0.00   \n",
              "CD Account          5000.0      0.060400     0.238250     0.0      0.00   \n",
              "Online              5000.0      0.596800     0.490589     0.0      0.00   \n",
              "CreditCard          5000.0      0.294000     0.455637     0.0      0.00   \n",
              "\n",
              "                        50%       75%      max  \n",
              "ID                   2500.5   3750.25   5000.0  \n",
              "Age                    45.0     55.00     67.0  \n",
              "Experience             20.0     30.00     43.0  \n",
              "Income                 64.0     98.00    224.0  \n",
              "ZIP Code            93437.0  94608.00  96651.0  \n",
              "Family                  2.0      3.00      4.0  \n",
              "CCAvg                   1.5      2.50     10.0  \n",
              "Education               2.0      3.00      3.0  \n",
              "Mortgage                0.0    101.00    635.0  \n",
              "Personal Loan           0.0      0.00      1.0  \n",
              "Securities Account      0.0      0.00      1.0  \n",
              "CD Account              0.0      0.00      1.0  \n",
              "Online                  1.0      1.00      1.0  \n",
              "CreditCard              0.0      1.00      1.0  "
            ],
            "text/html": [
              "\n",
              "  <div id=\"df-f068bd75-413b-4ef0-9c39-11ea5eb901fa\">\n",
              "    <div class=\"colab-df-container\">\n",
              "      <div>\n",
              "<style scoped>\n",
              "    .dataframe tbody tr th:only-of-type {\n",
              "        vertical-align: middle;\n",
              "    }\n",
              "\n",
              "    .dataframe tbody tr th {\n",
              "        vertical-align: top;\n",
              "    }\n",
              "\n",
              "    .dataframe thead th {\n",
              "        text-align: right;\n",
              "    }\n",
              "</style>\n",
              "<table border=\"1\" class=\"dataframe\">\n",
              "  <thead>\n",
              "    <tr style=\"text-align: right;\">\n",
              "      <th></th>\n",
              "      <th>count</th>\n",
              "      <th>mean</th>\n",
              "      <th>std</th>\n",
              "      <th>min</th>\n",
              "      <th>25%</th>\n",
              "      <th>50%</th>\n",
              "      <th>75%</th>\n",
              "      <th>max</th>\n",
              "    </tr>\n",
              "  </thead>\n",
              "  <tbody>\n",
              "    <tr>\n",
              "      <th>ID</th>\n",
              "      <td>5000.0</td>\n",
              "      <td>2500.500000</td>\n",
              "      <td>1443.520003</td>\n",
              "      <td>1.0</td>\n",
              "      <td>1250.75</td>\n",
              "      <td>2500.5</td>\n",
              "      <td>3750.25</td>\n",
              "      <td>5000.0</td>\n",
              "    </tr>\n",
              "    <tr>\n",
              "      <th>Age</th>\n",
              "      <td>5000.0</td>\n",
              "      <td>45.338400</td>\n",
              "      <td>11.463166</td>\n",
              "      <td>23.0</td>\n",
              "      <td>35.00</td>\n",
              "      <td>45.0</td>\n",
              "      <td>55.00</td>\n",
              "      <td>67.0</td>\n",
              "    </tr>\n",
              "    <tr>\n",
              "      <th>Experience</th>\n",
              "      <td>5000.0</td>\n",
              "      <td>20.104600</td>\n",
              "      <td>11.467954</td>\n",
              "      <td>-3.0</td>\n",
              "      <td>10.00</td>\n",
              "      <td>20.0</td>\n",
              "      <td>30.00</td>\n",
              "      <td>43.0</td>\n",
              "    </tr>\n",
              "    <tr>\n",
              "      <th>Income</th>\n",
              "      <td>5000.0</td>\n",
              "      <td>73.774200</td>\n",
              "      <td>46.033729</td>\n",
              "      <td>8.0</td>\n",
              "      <td>39.00</td>\n",
              "      <td>64.0</td>\n",
              "      <td>98.00</td>\n",
              "      <td>224.0</td>\n",
              "    </tr>\n",
              "    <tr>\n",
              "      <th>ZIP Code</th>\n",
              "      <td>5000.0</td>\n",
              "      <td>93152.503000</td>\n",
              "      <td>2121.852197</td>\n",
              "      <td>9307.0</td>\n",
              "      <td>91911.00</td>\n",
              "      <td>93437.0</td>\n",
              "      <td>94608.00</td>\n",
              "      <td>96651.0</td>\n",
              "    </tr>\n",
              "    <tr>\n",
              "      <th>Family</th>\n",
              "      <td>5000.0</td>\n",
              "      <td>2.396400</td>\n",
              "      <td>1.147663</td>\n",
              "      <td>1.0</td>\n",
              "      <td>1.00</td>\n",
              "      <td>2.0</td>\n",
              "      <td>3.00</td>\n",
              "      <td>4.0</td>\n",
              "    </tr>\n",
              "    <tr>\n",
              "      <th>CCAvg</th>\n",
              "      <td>5000.0</td>\n",
              "      <td>1.937938</td>\n",
              "      <td>1.747659</td>\n",
              "      <td>0.0</td>\n",
              "      <td>0.70</td>\n",
              "      <td>1.5</td>\n",
              "      <td>2.50</td>\n",
              "      <td>10.0</td>\n",
              "    </tr>\n",
              "    <tr>\n",
              "      <th>Education</th>\n",
              "      <td>5000.0</td>\n",
              "      <td>1.881000</td>\n",
              "      <td>0.839869</td>\n",
              "      <td>1.0</td>\n",
              "      <td>1.00</td>\n",
              "      <td>2.0</td>\n",
              "      <td>3.00</td>\n",
              "      <td>3.0</td>\n",
              "    </tr>\n",
              "    <tr>\n",
              "      <th>Mortgage</th>\n",
              "      <td>5000.0</td>\n",
              "      <td>56.498800</td>\n",
              "      <td>101.713802</td>\n",
              "      <td>0.0</td>\n",
              "      <td>0.00</td>\n",
              "      <td>0.0</td>\n",
              "      <td>101.00</td>\n",
              "      <td>635.0</td>\n",
              "    </tr>\n",
              "    <tr>\n",
              "      <th>Personal Loan</th>\n",
              "      <td>5000.0</td>\n",
              "      <td>0.096000</td>\n",
              "      <td>0.294621</td>\n",
              "      <td>0.0</td>\n",
              "      <td>0.00</td>\n",
              "      <td>0.0</td>\n",
              "      <td>0.00</td>\n",
              "      <td>1.0</td>\n",
              "    </tr>\n",
              "    <tr>\n",
              "      <th>Securities Account</th>\n",
              "      <td>5000.0</td>\n",
              "      <td>0.104400</td>\n",
              "      <td>0.305809</td>\n",
              "      <td>0.0</td>\n",
              "      <td>0.00</td>\n",
              "      <td>0.0</td>\n",
              "      <td>0.00</td>\n",
              "      <td>1.0</td>\n",
              "    </tr>\n",
              "    <tr>\n",
              "      <th>CD Account</th>\n",
              "      <td>5000.0</td>\n",
              "      <td>0.060400</td>\n",
              "      <td>0.238250</td>\n",
              "      <td>0.0</td>\n",
              "      <td>0.00</td>\n",
              "      <td>0.0</td>\n",
              "      <td>0.00</td>\n",
              "      <td>1.0</td>\n",
              "    </tr>\n",
              "    <tr>\n",
              "      <th>Online</th>\n",
              "      <td>5000.0</td>\n",
              "      <td>0.596800</td>\n",
              "      <td>0.490589</td>\n",
              "      <td>0.0</td>\n",
              "      <td>0.00</td>\n",
              "      <td>1.0</td>\n",
              "      <td>1.00</td>\n",
              "      <td>1.0</td>\n",
              "    </tr>\n",
              "    <tr>\n",
              "      <th>CreditCard</th>\n",
              "      <td>5000.0</td>\n",
              "      <td>0.294000</td>\n",
              "      <td>0.455637</td>\n",
              "      <td>0.0</td>\n",
              "      <td>0.00</td>\n",
              "      <td>0.0</td>\n",
              "      <td>1.00</td>\n",
              "      <td>1.0</td>\n",
              "    </tr>\n",
              "  </tbody>\n",
              "</table>\n",
              "</div>\n",
              "      <button class=\"colab-df-convert\" onclick=\"convertToInteractive('df-f068bd75-413b-4ef0-9c39-11ea5eb901fa')\"\n",
              "              title=\"Convert this dataframe to an interactive table.\"\n",
              "              style=\"display:none;\">\n",
              "        \n",
              "  <svg xmlns=\"http://www.w3.org/2000/svg\" height=\"24px\"viewBox=\"0 0 24 24\"\n",
              "       width=\"24px\">\n",
              "    <path d=\"M0 0h24v24H0V0z\" fill=\"none\"/>\n",
              "    <path d=\"M18.56 5.44l.94 2.06.94-2.06 2.06-.94-2.06-.94-.94-2.06-.94 2.06-2.06.94zm-11 1L8.5 8.5l.94-2.06 2.06-.94-2.06-.94L8.5 2.5l-.94 2.06-2.06.94zm10 10l.94 2.06.94-2.06 2.06-.94-2.06-.94-.94-2.06-.94 2.06-2.06.94z\"/><path d=\"M17.41 7.96l-1.37-1.37c-.4-.4-.92-.59-1.43-.59-.52 0-1.04.2-1.43.59L10.3 9.45l-7.72 7.72c-.78.78-.78 2.05 0 2.83L4 21.41c.39.39.9.59 1.41.59.51 0 1.02-.2 1.41-.59l7.78-7.78 2.81-2.81c.8-.78.8-2.07 0-2.86zM5.41 20L4 18.59l7.72-7.72 1.47 1.35L5.41 20z\"/>\n",
              "  </svg>\n",
              "      </button>\n",
              "      \n",
              "  <style>\n",
              "    .colab-df-container {\n",
              "      display:flex;\n",
              "      flex-wrap:wrap;\n",
              "      gap: 12px;\n",
              "    }\n",
              "\n",
              "    .colab-df-convert {\n",
              "      background-color: #E8F0FE;\n",
              "      border: none;\n",
              "      border-radius: 50%;\n",
              "      cursor: pointer;\n",
              "      display: none;\n",
              "      fill: #1967D2;\n",
              "      height: 32px;\n",
              "      padding: 0 0 0 0;\n",
              "      width: 32px;\n",
              "    }\n",
              "\n",
              "    .colab-df-convert:hover {\n",
              "      background-color: #E2EBFA;\n",
              "      box-shadow: 0px 1px 2px rgba(60, 64, 67, 0.3), 0px 1px 3px 1px rgba(60, 64, 67, 0.15);\n",
              "      fill: #174EA6;\n",
              "    }\n",
              "\n",
              "    [theme=dark] .colab-df-convert {\n",
              "      background-color: #3B4455;\n",
              "      fill: #D2E3FC;\n",
              "    }\n",
              "\n",
              "    [theme=dark] .colab-df-convert:hover {\n",
              "      background-color: #434B5C;\n",
              "      box-shadow: 0px 1px 3px 1px rgba(0, 0, 0, 0.15);\n",
              "      filter: drop-shadow(0px 1px 2px rgba(0, 0, 0, 0.3));\n",
              "      fill: #FFFFFF;\n",
              "    }\n",
              "  </style>\n",
              "\n",
              "      <script>\n",
              "        const buttonEl =\n",
              "          document.querySelector('#df-f068bd75-413b-4ef0-9c39-11ea5eb901fa button.colab-df-convert');\n",
              "        buttonEl.style.display =\n",
              "          google.colab.kernel.accessAllowed ? 'block' : 'none';\n",
              "\n",
              "        async function convertToInteractive(key) {\n",
              "          const element = document.querySelector('#df-f068bd75-413b-4ef0-9c39-11ea5eb901fa');\n",
              "          const dataTable =\n",
              "            await google.colab.kernel.invokeFunction('convertToInteractive',\n",
              "                                                     [key], {});\n",
              "          if (!dataTable) return;\n",
              "\n",
              "          const docLinkHtml = 'Like what you see? Visit the ' +\n",
              "            '<a target=\"_blank\" href=https://colab.research.google.com/notebooks/data_table.ipynb>data table notebook</a>'\n",
              "            + ' to learn more about interactive tables.';\n",
              "          element.innerHTML = '';\n",
              "          dataTable['output_type'] = 'display_data';\n",
              "          await google.colab.output.renderOutput(dataTable, element);\n",
              "          const docLink = document.createElement('div');\n",
              "          docLink.innerHTML = docLinkHtml;\n",
              "          element.appendChild(docLink);\n",
              "        }\n",
              "      </script>\n",
              "    </div>\n",
              "  </div>\n",
              "  "
            ]
          },
          "metadata": {},
          "execution_count": 66
        }
      ]
    },
    {
      "cell_type": "code",
      "source": [
        "df.skew()"
      ],
      "metadata": {
        "colab": {
          "base_uri": "https://localhost:8080/"
        },
        "id": "mStLioN0YD94",
        "outputId": "9cc0d410-b09c-4a83-bc49-5f67c67b8c1f"
      },
      "execution_count": null,
      "outputs": [
        {
          "output_type": "execute_result",
          "data": {
            "text/plain": [
              "ID                     0.000000\n",
              "Age                   -0.029341\n",
              "Experience            -0.026325\n",
              "Income                 0.841339\n",
              "ZIP Code             -12.500221\n",
              "Family                 0.155221\n",
              "CCAvg                  1.598443\n",
              "Education              0.227093\n",
              "Mortgage               2.104002\n",
              "Personal Loan          2.743607\n",
              "Securities Account     2.588268\n",
              "CD Account             3.691714\n",
              "Online                -0.394785\n",
              "CreditCard             0.904589\n",
              "dtype: float64"
            ]
          },
          "metadata": {},
          "execution_count": 67
        }
      ]
    },
    {
      "cell_type": "code",
      "source": [
        "#plt.boxplot(df)\n",
        "#plt.show()"
      ],
      "metadata": {
        "id": "mPE56OYLYSza"
      },
      "execution_count": null,
      "outputs": []
    },
    {
      "cell_type": "code",
      "source": [
        "plt.boxplot(df['ZIP Code'])\n",
        "plt.show()"
      ],
      "metadata": {
        "id": "JA5_B0TPYS2J",
        "colab": {
          "base_uri": "https://localhost:8080/",
          "height": 267
        },
        "outputId": "9c0eda67-e873-44db-c0eb-a18ec30b21ea"
      },
      "execution_count": null,
      "outputs": [
        {
          "output_type": "display_data",
          "data": {
            "text/plain": [
              "<Figure size 432x288 with 1 Axes>"
            ],
            "image/png": "[encoded data removed]"
          },
          "metadata": {
            "needs_background": "light"
          }
        }
      ]
    },
    {
      "cell_type": "code",
      "source": [
        "df.duplicated().sum()"
      ],
      "metadata": {
        "id": "H8oQR7LhYS5J",
        "colab": {
          "base_uri": "https://localhost:8080/"
        },
        "outputId": "e4651f78-2b6e-417b-c4a2-c1592d3d57da"
      },
      "execution_count": null,
      "outputs": [
        {
          "output_type": "execute_result",
          "data": {
            "text/plain": [
              "0"
            ]
          },
          "metadata": {},
          "execution_count": 70
        }
      ]
    },
    {
      "cell_type": "code",
      "source": [
        "df.isnull().sum()"
      ],
      "metadata": {
        "id": "s0mpQtJvYS7N",
        "colab": {
          "base_uri": "https://localhost:8080/"
        },
        "outputId": "f9811a1b-52dd-4b81-8e52-f18f51d87706"
      },
      "execution_count": null,
      "outputs": [
        {
          "output_type": "execute_result",
          "data": {
            "text/plain": [
              "ID                    0\n",
              "Age                   0\n",
              "Experience            0\n",
              "Income                0\n",
              "ZIP Code              0\n",
              "Family                0\n",
              "CCAvg                 0\n",
              "Education             0\n",
              "Mortgage              0\n",
              "Personal Loan         0\n",
              "Securities Account    0\n",
              "CD Account            0\n",
              "Online                0\n",
              "CreditCard            0\n",
              "dtype: int64"
            ]
          },
          "metadata": {},
          "execution_count": 71
        }
      ]
    },
    {
      "cell_type": "code",
      "source": [
        "#using zscore to find outliers in dataset\n",
        "\n",
        "import scipy.stats as stats\n",
        "outliers_df = stats.zscore(df)\n",
        "outliers = outliers_df>3\n",
        "#print(outliers.sum())\n",
        "outliers.sum()\n"
      ],
      "metadata": {
        "id": "LCcM64-Zleqq",
        "colab": {
          "base_uri": "https://localhost:8080/"
        },
        "outputId": "78cfee26-d78e-4696-81c5-2019af2fdce8"
      },
      "execution_count": null,
      "outputs": [
        {
          "output_type": "execute_result",
          "data": {
            "text/plain": [
              "1010"
            ]
          },
          "metadata": {},
          "execution_count": 72
        }
      ]
    },
    {
      "cell_type": "code",
      "source": [
        "plt.boxplot(df['ID'])\n",
        "plt.show()"
      ],
      "metadata": {
        "id": "ojxu9dLmlet5",
        "colab": {
          "base_uri": "https://localhost:8080/",
          "height": 265
        },
        "outputId": "707c2d0b-d989-4f36-82e1-0439a49b9f3a"
      },
      "execution_count": null,
      "outputs": [
        {
          "output_type": "display_data",
          "data": {
            "text/plain": [
              "<Figure size 432x288 with 1 Axes>"
            ],
            "image/png": "[encoded data removed]"
          },
          "metadata": {
            "needs_background": "light"
          }
        }
      ]
    },
    {
      "cell_type": "code",
      "source": [
        "sns.distplot(df['ZIP Code'])"
      ],
      "metadata": {
        "id": "q5zEG28uleyy",
        "colab": {
          "base_uri": "https://localhost:8080/",
          "height": 351
        },
        "outputId": "918093c4-e5ae-4cf0-9440-122554128c22"
      },
      "execution_count": null,
      "outputs": [
        {
          "output_type": "stream",
          "name": "stderr",
          "text": [
            "/usr/local/lib/python3.7/dist-packages/seaborn/distributions.py:2619: FutureWarning: `distplot` is a deprecated function and will be removed in a future version. Please adapt your code to use either `displot` (a figure-level function with similar flexibility) or `histplot` (an axes-level function for histograms).\n",
            "  warnings.warn(msg, FutureWarning)\n"
          ]
        },
        {
          "output_type": "execute_result",
          "data": {
            "text/plain": [
              "<matplotlib.axes._subplots.AxesSubplot at 0x7f658309a5d0>"
            ]
          },
          "metadata": {},
          "execution_count": 74
        },
        {
          "output_type": "display_data",
          "data": {
            "text/plain": [
              "<Figure size 432x288 with 1 Axes>"
            ],
            "image/png": "[encoded data removed]"
          },
          "metadata": {
            "needs_background": "light"
          }
        }
      ]
    },
    {
      "cell_type": "code",
      "source": [
        "def find_outliers_IQR(df):\n",
        "\n",
        "   q1=df.quantile(0.25)\n",
        "\n",
        "   q3=df.quantile(0.75)\n",
        "\n",
        "   IQR=q3-q1\n",
        "\n",
        "   outliers = df[((df<(q1-1.5*IQR)) | (df>(q3+1.5*IQR)))]\n",
        "\n",
        "   return outliers"
      ],
      "metadata": {
        "id": "PgTC0Dpqvvg5"
      },
      "execution_count": null,
      "outputs": []
    },
    {
      "cell_type": "code",
      "source": [
        "outliers = find_outliers_IQR(df)"
      ],
      "metadata": {
        "id": "wQOXZ1lQvzdE"
      },
      "execution_count": null,
      "outputs": []
    },
    {
      "cell_type": "code",
      "source": [
        "outliers.count()"
      ],
      "metadata": {
        "id": "odXJUYY7vzer",
        "colab": {
          "base_uri": "https://localhost:8080/"
        },
        "outputId": "1852d3f0-9aae-417f-c73f-a8e8d57e8b79"
      },
      "execution_count": null,
      "outputs": [
        {
          "output_type": "execute_result",
          "data": {
            "text/plain": [
              "ID                      0\n",
              "Age                     0\n",
              "Experience              0\n",
              "Income                 96\n",
              "ZIP Code                1\n",
              "Family                  0\n",
              "CCAvg                 324\n",
              "Education               0\n",
              "Mortgage              291\n",
              "Personal Loan         480\n",
              "Securities Account    522\n",
              "CD Account            302\n",
              "Online                  0\n",
              "CreditCard              0\n",
              "dtype: int64"
            ]
          },
          "metadata": {},
          "execution_count": 77
        }
      ]
    },
    {
      "cell_type": "code",
      "source": [
        "plt.boxplot(df['CreditCard'])\n",
        "plt.show()"
      ],
      "metadata": {
        "id": "hlnnA4WevzgC",
        "colab": {
          "base_uri": "https://localhost:8080/",
          "height": 265
        },
        "outputId": "733c3a38-e4fd-4dd3-ce5a-cb81f2a2606c"
      },
      "execution_count": null,
      "outputs": [
        {
          "output_type": "display_data",
          "data": {
            "text/plain": [
              "<Figure size 432x288 with 1 Axes>"
            ],
            "image/png": "[encoded data removed]"
          },
          "metadata": {
            "needs_background": "light"
          }
        }
      ]
    },
    {
      "cell_type": "code",
      "source": [
        "plt.boxplot(x=df['Mortgage'])\n",
        "plt.show()"
      ],
      "metadata": {
        "colab": {
          "base_uri": "https://localhost:8080/",
          "height": 265
        },
        "id": "LAP0MBso6YSS",
        "outputId": "fb6ecb14-5486-400f-df3e-b44bc3d532eb"
      },
      "execution_count": null,
      "outputs": [
        {
          "output_type": "display_data",
          "data": {
            "text/plain": [
              "<Figure size 432x288 with 1 Axes>"
            ],
            "image/png": "[encoded data removed]"
          },
          "metadata": {
            "needs_background": "light"
          }
        }
      ]
    },
    {
      "cell_type": "code",
      "source": [
        "sns.displot(df['Mortgage'],bins=15,kde=False)\n",
        "plt.show()"
      ],
      "metadata": {
        "id": "xGGVZGCNvzi6",
        "colab": {
          "base_uri": "https://localhost:8080/",
          "height": 369
        },
        "outputId": "843c6420-d46d-47db-f9af-261dc86fd289"
      },
      "execution_count": null,
      "outputs": [
        {
          "output_type": "display_data",
          "data": {
            "text/plain": [
              "<Figure size 360x360 with 1 Axes>"
            ],
            "image/png": "[encoded data removed]"
          },
          "metadata": {
            "needs_background": "light"
          }
        }
      ]
    },
    {
      "cell_type": "code",
      "source": [
        ""
      ],
      "metadata": {
        "id": "Rx_HFXfdvzoi"
      },
      "execution_count": null,
      "outputs": []
    },
    {
      "cell_type": "code",
      "source": [
        ""
      ],
      "metadata": {
        "id": "INP3CoYMzj2A"
      },
      "execution_count": null,
      "outputs": []
    },
    {
      "cell_type": "code",
      "source": [
        "df['Personal Loan'].value_counts()"
      ],
      "metadata": {
        "colab": {
          "base_uri": "https://localhost:8080/"
        },
        "id": "55aSPF5T8y68",
        "outputId": "af6b5961-1a5c-4e4b-9bd8-731f893e3462"
      },
      "execution_count": null,
      "outputs": [
        {
          "output_type": "execute_result",
          "data": {
            "text/plain": [
              "0    4520\n",
              "1     480\n",
              "Name: Personal Loan, dtype: int64"
            ]
          },
          "metadata": {},
          "execution_count": 81
        }
      ]
    },
    {
      "cell_type": "code",
      "source": [
        "#480 (i.e)1 accepted personal loan offered by customers in early campaign\n",
        "#where 4520 (i.e)0 did not accepted the personal loan"
      ],
      "metadata": {
        "id": "8MORltv7831r"
      },
      "execution_count": null,
      "outputs": []
    },
    {
      "cell_type": "code",
      "source": [
        "count_class=pd.value_counts(df['Personal Loan'],sort=True)\n",
        "count_class.plot(kind='bar',rot=1)\n",
        "plt.title(\"personal loan\")\n",
        "labels=['not accepted','accepted']\n",
        "plt.xticks(range(2),labels)\n",
        "plt.xlabel(\"class\")\n",
        "plt.ylabel(\"frequency\")\n",
        "plt.show()"
      ],
      "metadata": {
        "colab": {
          "base_uri": "https://localhost:8080/",
          "height": 296
        },
        "id": "ueIcc_vbJQmr",
        "outputId": "415b867a-1dee-4a3e-a76b-cbc6cb5ac6d0"
      },
      "execution_count": null,
      "outputs": [
        {
          "output_type": "display_data",
          "data": {
            "text/plain": [
              "<Figure size 432x288 with 1 Axes>"
            ],
            "image/png": "[encoded data removed]"
          },
          "metadata": {
            "needs_background": "light"
          }
        }
      ]
    },
    {
      "cell_type": "code",
      "source": [
        "df.shape"
      ],
      "metadata": {
        "colab": {
          "base_uri": "https://localhost:8080/"
        },
        "id": "uXetGh02TlUx",
        "outputId": "02fd5fb8-c938-445b-9fde-9ee8a8f9f393"
      },
      "execution_count": null,
      "outputs": [
        {
          "output_type": "execute_result",
          "data": {
            "text/plain": [
              "(5000, 14)"
            ]
          },
          "metadata": {},
          "execution_count": 84
        }
      ]
    },
    {
      "cell_type": "code",
      "source": [
        "df.columns"
      ],
      "metadata": {
        "colab": {
          "base_uri": "https://localhost:8080/"
        },
        "id": "r7jmL4cpJQyy",
        "outputId": "31ae6b56-1caf-4a95-e4b6-186c4cab1b1b"
      },
      "execution_count": null,
      "outputs": [
        {
          "output_type": "execute_result",
          "data": {
            "text/plain": [
              "Index(['ID', 'Age', 'Experience', 'Income', 'ZIP Code', 'Family', 'CCAvg',\n",
              "       'Education', 'Mortgage', 'Personal Loan', 'Securities Account',\n",
              "       'CD Account', 'Online', 'CreditCard'],\n",
              "      dtype='object')"
            ]
          },
          "metadata": {},
          "execution_count": 85
        }
      ]
    },
    {
      "cell_type": "markdown",
      "source": [
        "The department wants to build a model that will help them identify the potential customers who have higher probability of purchasing the loan. This will increase the success ratio while at the same time reduce the cost of the campaign. \n",
        "so the feature will be personal loan based on this historical data we can able to find prediction for purchasing loan for future customers "
      ],
      "metadata": {
        "id": "szIF4jOD1uHl"
      }
    },
    {
      "cell_type": "markdown",
      "source": [
        "here we have to set class column as Personal loan for that pandas loc function used\n",
        "\n"
      ],
      "metadata": {
        "id": "OKR6XDEb0ZXw"
      }
    },
    {
      "cell_type": "code",
      "source": [
        "df1=df.loc[:,['Personal Loan']]\n",
        "type(df1)"
      ],
      "metadata": {
        "colab": {
          "base_uri": "https://localhost:8080/"
        },
        "id": "n_styeEgNhxW",
        "outputId": "7d9e48e6-cc21-45c4-bd85-9b916e3ab05b"
      },
      "execution_count": null,
      "outputs": [
        {
          "output_type": "execute_result",
          "data": {
            "text/plain": [
              "pandas.core.frame.DataFrame"
            ]
          },
          "metadata": {},
          "execution_count": 86
        }
      ]
    },
    {
      "cell_type": "code",
      "source": [
        "df1.shape"
      ],
      "metadata": {
        "colab": {
          "base_uri": "https://localhost:8080/"
        },
        "id": "8BMEUHlWMfrZ",
        "outputId": "02fb0ecd-1a87-4f72-9106-d2cc09a7ced8"
      },
      "execution_count": null,
      "outputs": [
        {
          "output_type": "execute_result",
          "data": {
            "text/plain": [
              "(5000, 1)"
            ]
          },
          "metadata": {},
          "execution_count": 87
        }
      ]
    },
    {
      "cell_type": "code",
      "source": [
        "df2=df.loc[:,['ID', 'Age', 'Experience', 'Income', 'ZIP Code', 'Family', 'CCAvg',\n",
        "       'Education', 'Mortgage', 'Securities Account','CD Account', 'Online', 'CreditCard']]\n",
        "type(df2)\n",
        "    "
      ],
      "metadata": {
        "colab": {
          "base_uri": "https://localhost:8080/"
        },
        "id": "BUUF7TcaM95U",
        "outputId": "59414383-147f-4043-96bb-e6544cb9e369"
      },
      "execution_count": null,
      "outputs": [
        {
          "output_type": "execute_result",
          "data": {
            "text/plain": [
              "pandas.core.frame.DataFrame"
            ]
          },
          "metadata": {},
          "execution_count": 88
        }
      ]
    },
    {
      "cell_type": "code",
      "source": [
        "df2.shape"
      ],
      "metadata": {
        "colab": {
          "base_uri": "https://localhost:8080/"
        },
        "id": "hct3vGfmNQUi",
        "outputId": "ddd7e265-255b-48c7-b75b-89f3b03f006e"
      },
      "execution_count": null,
      "outputs": [
        {
          "output_type": "execute_result",
          "data": {
            "text/plain": [
              "(5000, 13)"
            ]
          },
          "metadata": {},
          "execution_count": 89
        }
      ]
    },
    {
      "cell_type": "markdown",
      "source": [
        "my new data frame feautures and personal loan as class column\n"
      ],
      "metadata": {
        "id": "Choxg-gw0m7I"
      }
    },
    {
      "cell_type": "code",
      "source": [
        "frames=[df2,df1]\n",
        "data=pd.concat(frames,axis=1)"
      ],
      "metadata": {
        "id": "xwwJzkzCNZHc"
      },
      "execution_count": null,
      "outputs": []
    },
    {
      "cell_type": "code",
      "source": [
        "data.head()"
      ],
      "metadata": {
        "colab": {
          "base_uri": "https://localhost:8080/",
          "height": 206
        },
        "id": "ZPSlFI3DPEez",
        "outputId": "969c78b1-5639-4967-aeb6-317479213863"
      },
      "execution_count": null,
      "outputs": [
        {
          "output_type": "execute_result",
          "data": {
            "text/plain": [
              "   ID  Age  Experience  Income  ZIP Code  Family  CCAvg  Education  Mortgage  \\\n",
              "0   1   25           1      49     91107       4    1.6          1         0   \n",
              "1   2   45          19      34     90089       3    1.5          1         0   \n",
              "2   3   39          15      11     94720       1    1.0          1         0   \n",
              "3   4   35           9     100     94112       1    2.7          2         0   \n",
              "4   5   35           8      45     91330       4    1.0          2         0   \n",
              "\n",
              "   Securities Account  CD Account  Online  CreditCard  Personal Loan  \n",
              "0                   1           0       0           0              0  \n",
              "1                   1           0       0           0              0  \n",
              "2                   0           0       0           0              0  \n",
              "3                   0           0       0           0              0  \n",
              "4                   0           0       0           1              0  "
            ],
            "text/html": [
              "\n",
              "  <div id=\"df-79da8c79-2737-4295-bef8-d879d5a4df1f\">\n",
              "    <div class=\"colab-df-container\">\n",
              "      <div>\n",
              "<style scoped>\n",
              "    .dataframe tbody tr th:only-of-type {\n",
              "        vertical-align: middle;\n",
              "    }\n",
              "\n",
              "    .dataframe tbody tr th {\n",
              "        vertical-align: top;\n",
              "    }\n",
              "\n",
              "    .dataframe thead th {\n",
              "        text-align: right;\n",
              "    }\n",
              "</style>\n",
              "<table border=\"1\" class=\"dataframe\">\n",
              "  <thead>\n",
              "    <tr style=\"text-align: right;\">\n",
              "      <th></th>\n",
              "      <th>ID</th>\n",
              "      <th>Age</th>\n",
              "      <th>Experience</th>\n",
              "      <th>Income</th>\n",
              "      <th>ZIP Code</th>\n",
              "      <th>Family</th>\n",
              "      <th>CCAvg</th>\n",
              "      <th>Education</th>\n",
              "      <th>Mortgage</th>\n",
              "      <th>Securities Account</th>\n",
              "      <th>CD Account</th>\n",
              "      <th>Online</th>\n",
              "      <th>CreditCard</th>\n",
              "      <th>Personal Loan</th>\n",
              "    </tr>\n",
              "  </thead>\n",
              "  <tbody>\n",
              "    <tr>\n",
              "      <th>0</th>\n",
              "      <td>1</td>\n",
              "      <td>25</td>\n",
              "      <td>1</td>\n",
              "      <td>49</td>\n",
              "      <td>91107</td>\n",
              "      <td>4</td>\n",
              "      <td>1.6</td>\n",
              "      <td>1</td>\n",
              "      <td>0</td>\n",
              "      <td>1</td>\n",
              "      <td>0</td>\n",
              "      <td>0</td>\n",
              "      <td>0</td>\n",
              "      <td>0</td>\n",
              "    </tr>\n",
              "    <tr>\n",
              "      <th>1</th>\n",
              "      <td>2</td>\n",
              "      <td>45</td>\n",
              "      <td>19</td>\n",
              "      <td>34</td>\n",
              "      <td>90089</td>\n",
              "      <td>3</td>\n",
              "      <td>1.5</td>\n",
              "      <td>1</td>\n",
              "      <td>0</td>\n",
              "      <td>1</td>\n",
              "      <td>0</td>\n",
              "      <td>0</td>\n",
              "      <td>0</td>\n",
              "      <td>0</td>\n",
              "    </tr>\n",
              "    <tr>\n",
              "      <th>2</th>\n",
              "      <td>3</td>\n",
              "      <td>39</td>\n",
              "      <td>15</td>\n",
              "      <td>11</td>\n",
              "      <td>94720</td>\n",
              "      <td>1</td>\n",
              "      <td>1.0</td>\n",
              "      <td>1</td>\n",
              "      <td>0</td>\n",
              "      <td>0</td>\n",
              "      <td>0</td>\n",
              "      <td>0</td>\n",
              "      <td>0</td>\n",
              "      <td>0</td>\n",
              "    </tr>\n",
              "    <tr>\n",
              "      <th>3</th>\n",
              "      <td>4</td>\n",
              "      <td>35</td>\n",
              "      <td>9</td>\n",
              "      <td>100</td>\n",
              "      <td>94112</td>\n",
              "      <td>1</td>\n",
              "      <td>2.7</td>\n",
              "      <td>2</td>\n",
              "      <td>0</td>\n",
              "      <td>0</td>\n",
              "      <td>0</td>\n",
              "      <td>0</td>\n",
              "      <td>0</td>\n",
              "      <td>0</td>\n",
              "    </tr>\n",
              "    <tr>\n",
              "      <th>4</th>\n",
              "      <td>5</td>\n",
              "      <td>35</td>\n",
              "      <td>8</td>\n",
              "      <td>45</td>\n",
              "      <td>91330</td>\n",
              "      <td>4</td>\n",
              "      <td>1.0</td>\n",
              "      <td>2</td>\n",
              "      <td>0</td>\n",
              "      <td>0</td>\n",
              "      <td>0</td>\n",
              "      <td>0</td>\n",
              "      <td>1</td>\n",
              "      <td>0</td>\n",
              "    </tr>\n",
              "  </tbody>\n",
              "</table>\n",
              "</div>\n",
              "      <button class=\"colab-df-convert\" onclick=\"convertToInteractive('df-79da8c79-2737-4295-bef8-d879d5a4df1f')\"\n",
              "              title=\"Convert this dataframe to an interactive table.\"\n",
              "              style=\"display:none;\">\n",
              "        \n",
              "  <svg xmlns=\"http://www.w3.org/2000/svg\" height=\"24px\"viewBox=\"0 0 24 24\"\n",
              "       width=\"24px\">\n",
              "    <path d=\"M0 0h24v24H0V0z\" fill=\"none\"/>\n",
              "    <path d=\"M18.56 5.44l.94 2.06.94-2.06 2.06-.94-2.06-.94-.94-2.06-.94 2.06-2.06.94zm-11 1L8.5 8.5l.94-2.06 2.06-.94-2.06-.94L8.5 2.5l-.94 2.06-2.06.94zm10 10l.94 2.06.94-2.06 2.06-.94-2.06-.94-.94-2.06-.94 2.06-2.06.94z\"/><path d=\"M17.41 7.96l-1.37-1.37c-.4-.4-.92-.59-1.43-.59-.52 0-1.04.2-1.43.59L10.3 9.45l-7.72 7.72c-.78.78-.78 2.05 0 2.83L4 21.41c.39.39.9.59 1.41.59.51 0 1.02-.2 1.41-.59l7.78-7.78 2.81-2.81c.8-.78.8-2.07 0-2.86zM5.41 20L4 18.59l7.72-7.72 1.47 1.35L5.41 20z\"/>\n",
              "  </svg>\n",
              "      </button>\n",
              "      \n",
              "  <style>\n",
              "    .colab-df-container {\n",
              "      display:flex;\n",
              "      flex-wrap:wrap;\n",
              "      gap: 12px;\n",
              "    }\n",
              "\n",
              "    .colab-df-convert {\n",
              "      background-color: #E8F0FE;\n",
              "      border: none;\n",
              "      border-radius: 50%;\n",
              "      cursor: pointer;\n",
              "      display: none;\n",
              "      fill: #1967D2;\n",
              "      height: 32px;\n",
              "      padding: 0 0 0 0;\n",
              "      width: 32px;\n",
              "    }\n",
              "\n",
              "    .colab-df-convert:hover {\n",
              "      background-color: #E2EBFA;\n",
              "      box-shadow: 0px 1px 2px rgba(60, 64, 67, 0.3), 0px 1px 3px 1px rgba(60, 64, 67, 0.15);\n",
              "      fill: #174EA6;\n",
              "    }\n",
              "\n",
              "    [theme=dark] .colab-df-convert {\n",
              "      background-color: #3B4455;\n",
              "      fill: #D2E3FC;\n",
              "    }\n",
              "\n",
              "    [theme=dark] .colab-df-convert:hover {\n",
              "      background-color: #434B5C;\n",
              "      box-shadow: 0px 1px 3px 1px rgba(0, 0, 0, 0.15);\n",
              "      filter: drop-shadow(0px 1px 2px rgba(0, 0, 0, 0.3));\n",
              "      fill: #FFFFFF;\n",
              "    }\n",
              "  </style>\n",
              "\n",
              "      <script>\n",
              "        const buttonEl =\n",
              "          document.querySelector('#df-79da8c79-2737-4295-bef8-d879d5a4df1f button.colab-df-convert');\n",
              "        buttonEl.style.display =\n",
              "          google.colab.kernel.accessAllowed ? 'block' : 'none';\n",
              "\n",
              "        async function convertToInteractive(key) {\n",
              "          const element = document.querySelector('#df-79da8c79-2737-4295-bef8-d879d5a4df1f');\n",
              "          const dataTable =\n",
              "            await google.colab.kernel.invokeFunction('convertToInteractive',\n",
              "                                                     [key], {});\n",
              "          if (!dataTable) return;\n",
              "\n",
              "          const docLinkHtml = 'Like what you see? Visit the ' +\n",
              "            '<a target=\"_blank\" href=https://colab.research.google.com/notebooks/data_table.ipynb>data table notebook</a>'\n",
              "            + ' to learn more about interactive tables.';\n",
              "          element.innerHTML = '';\n",
              "          dataTable['output_type'] = 'display_data';\n",
              "          await google.colab.output.renderOutput(dataTable, element);\n",
              "          const docLink = document.createElement('div');\n",
              "          docLink.innerHTML = docLinkHtml;\n",
              "          element.appendChild(docLink);\n",
              "        }\n",
              "      </script>\n",
              "    </div>\n",
              "  </div>\n",
              "  "
            ]
          },
          "metadata": {},
          "execution_count": 91
        }
      ]
    },
    {
      "cell_type": "code",
      "source": [
        "data.info()"
      ],
      "metadata": {
        "colab": {
          "base_uri": "https://localhost:8080/"
        },
        "id": "XbxDcrw0PGKR",
        "outputId": "14bbf647-99b1-40f1-aa88-08718c7cb9bb"
      },
      "execution_count": null,
      "outputs": [
        {
          "output_type": "stream",
          "name": "stdout",
          "text": [
            "<class 'pandas.core.frame.DataFrame'>\n",
            "RangeIndex: 5000 entries, 0 to 4999\n",
            "Data columns (total 14 columns):\n",
            " #   Column              Non-Null Count  Dtype  \n",
            "---  ------              --------------  -----  \n",
            " 0   ID                  5000 non-null   int64  \n",
            " 1   Age                 5000 non-null   int64  \n",
            " 2   Experience          5000 non-null   int64  \n",
            " 3   Income              5000 non-null   int64  \n",
            " 4   ZIP Code            5000 non-null   int64  \n",
            " 5   Family              5000 non-null   int64  \n",
            " 6   CCAvg               5000 non-null   float64\n",
            " 7   Education           5000 non-null   int64  \n",
            " 8   Mortgage            5000 non-null   int64  \n",
            " 9   Securities Account  5000 non-null   int64  \n",
            " 10  CD Account          5000 non-null   int64  \n",
            " 11  Online              5000 non-null   int64  \n",
            " 12  CreditCard          5000 non-null   int64  \n",
            " 13  Personal Loan       5000 non-null   int64  \n",
            "dtypes: float64(1), int64(13)\n",
            "memory usage: 547.0 KB\n"
          ]
        }
      ]
    },
    {
      "cell_type": "code",
      "source": [
        "data[(data['Experience']< 0)]['Experience'].value_counts().sum()"
      ],
      "metadata": {
        "id": "478l76WwPM1K",
        "colab": {
          "base_uri": "https://localhost:8080/"
        },
        "outputId": "959824ba-224e-41a5-f547-37940c89d0c3"
      },
      "execution_count": null,
      "outputs": [
        {
          "output_type": "execute_result",
          "data": {
            "text/plain": [
              "52"
            ]
          },
          "metadata": {},
          "execution_count": 93
        }
      ]
    },
    {
      "cell_type": "code",
      "source": [
        "data['Experience']"
      ],
      "metadata": {
        "id": "Pz3OUKTsVgBd",
        "colab": {
          "base_uri": "https://localhost:8080/"
        },
        "outputId": "3fb46866-5209-4803-fc41-ccfb421923f9"
      },
      "execution_count": null,
      "outputs": [
        {
          "output_type": "execute_result",
          "data": {
            "text/plain": [
              "0        1\n",
              "1       19\n",
              "2       15\n",
              "3        9\n",
              "4        8\n",
              "        ..\n",
              "4995     3\n",
              "4996     4\n",
              "4997    39\n",
              "4998    40\n",
              "4999     4\n",
              "Name: Experience, Length: 5000, dtype: int64"
            ]
          },
          "metadata": {},
          "execution_count": 94
        }
      ]
    },
    {
      "cell_type": "code",
      "source": [
        " sns.heatmap(data)\n",
        " plt.show()"
      ],
      "metadata": {
        "id": "DQ1fHKwcVgEK",
        "colab": {
          "base_uri": "https://localhost:8080/",
          "height": 353
        },
        "outputId": "d95b6e5c-532c-49be-fa9e-8cc22b44a477"
      },
      "execution_count": null,
      "outputs": [
        {
          "output_type": "display_data",
          "data": {
            "text/plain": [
              "<Figure size 432x288 with 2 Axes>"
            ],
            "image/png": "[encoded data removed]"
          },
          "metadata": {
            "needs_background": "light"
          }
        }
      ]
    },
    {
      "cell_type": "code",
      "source": [
        "import matplotlib.pyplot as plt\n",
        "\n",
        "plt.matshow(data.corr())\n",
        "plt.figure(figsize=(16,16))\n",
        "plt.show()"
      ],
      "metadata": {
        "id": "EVKtujeMVgIL",
        "colab": {
          "base_uri": "https://localhost:8080/",
          "height": 292
        },
        "outputId": "4941964f-c626-4590-83a0-2e4dda2c08f2"
      },
      "execution_count": null,
      "outputs": [
        {
          "output_type": "display_data",
          "data": {
            "text/plain": [
              "<Figure size 288x288 with 1 Axes>"
            ],
            "image/png": "[encoded data removed]"
          },
          "metadata": {
            "needs_background": "light"
          }
        },
        {
          "output_type": "display_data",
          "data": {
            "text/plain": [
              "<Figure size 1152x1152 with 0 Axes>"
            ]
          },
          "metadata": {}
        }
      ]
    },
    {
      "cell_type": "code",
      "source": [
        "a=df.corr()\n",
        "plt.figure(figsize=(12,10))\n",
        "a.style.background_gradient(cmap=\"coolwarm\")"
      ],
      "metadata": {
        "colab": {
          "base_uri": "https://localhost:8080/",
          "height": 506
        },
        "id": "o35umO1D7nDO",
        "outputId": "82737db3-f007-4c85-c463-ab2d61ecc651"
      },
      "execution_count": null,
      "outputs": [
        {
          "output_type": "execute_result",
          "data": {
            "text/plain": [
              "<pandas.io.formats.style.Styler at 0x7f6582d1aa50>"
            ],
            "text/html": [
              "<style type=\"text/css\">\n",
              "#T_301b4_row0_col0, #T_301b4_row1_col1, #T_301b4_row2_col2, #T_301b4_row3_col3, #T_301b4_row4_col4, #T_301b4_row5_col5, #T_301b4_row6_col6, #T_301b4_row7_col7, #T_301b4_row8_col8, #T_301b4_row9_col9, #T_301b4_row10_col10, #T_301b4_row11_col11, #T_301b4_row12_col12, #T_301b4_row13_col13 {\n",
              "  background-color: #b40426;\n",
              "  color: #f1f1f1;\n",
              "}\n",
              "#T_301b4_row0_col1, #T_301b4_row6_col7, #T_301b4_row7_col0, #T_301b4_row9_col1, #T_301b4_row10_col9, #T_301b4_row12_col4 {\n",
              "  background-color: #485fd1;\n",
              "  color: #f1f1f1;\n",
              "}\n",
              "#T_301b4_row0_col2, #T_301b4_row0_col4, #T_301b4_row4_col8, #T_301b4_row5_col4, #T_301b4_row6_col5, #T_301b4_row8_col1, #T_301b4_row8_col2, #T_301b4_row9_col2, #T_301b4_row13_col0 {\n",
              "  background-color: #465ecf;\n",
              "  color: #f1f1f1;\n",
              "}\n",
              "#T_301b4_row0_col3, #T_301b4_row4_col3, #T_301b4_row4_col7, #T_301b4_row6_col11 {\n",
              "  background-color: #6788ee;\n",
              "  color: #f1f1f1;\n",
              "}\n",
              "#T_301b4_row0_col5 {\n",
              "  background-color: #6180e9;\n",
              "  color: #f1f1f1;\n",
              "}\n",
              "#T_301b4_row0_col6 {\n",
              "  background-color: #5977e3;\n",
              "  color: #f1f1f1;\n",
              "}\n",
              "#T_301b4_row0_col7 {\n",
              "  background-color: #7396f5;\n",
              "  color: #f1f1f1;\n",
              "}\n",
              "#T_301b4_row0_col8, #T_301b4_row1_col0, #T_301b4_row1_col9, #T_301b4_row1_col10, #T_301b4_row2_col0, #T_301b4_row2_col9, #T_301b4_row2_col11, #T_301b4_row9_col13, #T_301b4_row11_col0, #T_301b4_row12_col13, #T_301b4_row13_col12 {\n",
              "  background-color: #3f53c6;\n",
              "  color: #f1f1f1;\n",
              "}\n",
              "#T_301b4_row0_col9, #T_301b4_row0_col10, #T_301b4_row0_col11, #T_301b4_row1_col4, #T_301b4_row2_col4, #T_301b4_row3_col1, #T_301b4_row3_col5, #T_301b4_row3_col7, #T_301b4_row5_col2, #T_301b4_row6_col0, #T_301b4_row6_col1, #T_301b4_row6_col2, #T_301b4_row7_col3, #T_301b4_row7_col6, #T_301b4_row7_col8, #T_301b4_row7_col12, #T_301b4_row9_col0, #T_301b4_row10_col13, #T_301b4_row13_col10 {\n",
              "  background-color: #3b4cc0;\n",
              "  color: #f1f1f1;\n",
              "}\n",
              "#T_301b4_row0_col12, #T_301b4_row1_col11, #T_301b4_row2_col10, #T_301b4_row3_col4, #T_301b4_row3_col10, #T_301b4_row3_col13, #T_301b4_row5_col8 {\n",
              "  background-color: #3e51c5;\n",
              "  color: #f1f1f1;\n",
              "}\n",
              "#T_301b4_row0_col13, #T_301b4_row4_col12, #T_301b4_row6_col10, #T_301b4_row10_col4 {\n",
              "  background-color: #445acc;\n",
              "  color: #f1f1f1;\n",
              "}\n",
              "#T_301b4_row1_col2, #T_301b4_row2_col1 {\n",
              "  background-color: #b50927;\n",
              "  color: #f1f1f1;\n",
              "}\n",
              "#T_301b4_row1_col3 {\n",
              "  background-color: #5d7ce6;\n",
              "  color: #f1f1f1;\n",
              "}\n",
              "#T_301b4_row1_col5, #T_301b4_row8_col11 {\n",
              "  background-color: #5875e1;\n",
              "  color: #f1f1f1;\n",
              "}\n",
              "#T_301b4_row1_col6 {\n",
              "  background-color: #506bda;\n",
              "  color: #f1f1f1;\n",
              "}\n",
              "#T_301b4_row1_col7, #T_301b4_row7_col5 {\n",
              "  background-color: #799cf8;\n",
              "  color: #f1f1f1;\n",
              "}\n",
              "#T_301b4_row1_col8, #T_301b4_row1_col13, #T_301b4_row2_col8, #T_301b4_row4_col2, #T_301b4_row4_col10, #T_301b4_row4_col13, #T_301b4_row5_col11, #T_301b4_row7_col11, #T_301b4_row9_col12, #T_301b4_row12_col0 {\n",
              "  background-color: #4055c8;\n",
              "  color: #f1f1f1;\n",
              "}\n",
              "#T_301b4_row1_col12, #T_301b4_row2_col12, #T_301b4_row3_col12, #T_301b4_row9_col4, #T_301b4_row12_col9, #T_301b4_row12_col10 {\n",
              "  background-color: #4358cb;\n",
              "  color: #f1f1f1;\n",
              "}\n",
              "#T_301b4_row2_col3, #T_301b4_row8_col5, #T_301b4_row11_col8 {\n",
              "  background-color: #5f7fe8;\n",
              "  color: #f1f1f1;\n",
              "}\n",
              "#T_301b4_row2_col5, #T_301b4_row7_col1 {\n",
              "  background-color: #5673e0;\n",
              "  color: #f1f1f1;\n",
              "}\n",
              "#T_301b4_row2_col6 {\n",
              "  background-color: #516ddb;\n",
              "  color: #f1f1f1;\n",
              "}\n",
              "#T_301b4_row2_col7, #T_301b4_row9_col8, #T_301b4_row11_col7, #T_301b4_row12_col3 {\n",
              "  background-color: #7093f3;\n",
              "  color: #f1f1f1;\n",
              "}\n",
              "#T_301b4_row2_col13, #T_301b4_row4_col1, #T_301b4_row4_col9, #T_301b4_row4_col11, #T_301b4_row5_col3, #T_301b4_row5_col6, #T_301b4_row5_col12, #T_301b4_row5_col13, #T_301b4_row6_col4, #T_301b4_row10_col8, #T_301b4_row10_col12, #T_301b4_row12_col8, #T_301b4_row13_col8, #T_301b4_row13_col9 {\n",
              "  background-color: #4257c9;\n",
              "  color: #f1f1f1;\n",
              "}\n",
              "#T_301b4_row3_col0, #T_301b4_row3_col2, #T_301b4_row5_col0, #T_301b4_row7_col10, #T_301b4_row7_col13, #T_301b4_row8_col13, #T_301b4_row10_col0 {\n",
              "  background-color: #3c4ec2;\n",
              "  color: #f1f1f1;\n",
              "}\n",
              "#T_301b4_row3_col6 {\n",
              "  background-color: #f7b093;\n",
              "  color: #000000;\n",
              "}\n",
              "#T_301b4_row3_col8 {\n",
              "  background-color: #86a9fc;\n",
              "  color: #f1f1f1;\n",
              "}\n",
              "#T_301b4_row3_col9 {\n",
              "  background-color: #e0dbd8;\n",
              "  color: #000000;\n",
              "}\n",
              "#T_301b4_row3_col11 {\n",
              "  background-color: #7295f4;\n",
              "  color: #f1f1f1;\n",
              "}\n",
              "#T_301b4_row4_col0, #T_301b4_row5_col10, #T_301b4_row8_col4, #T_301b4_row9_col10, #T_301b4_row13_col4 {\n",
              "  background-color: #455cce;\n",
              "  color: #f1f1f1;\n",
              "}\n",
              "#T_301b4_row4_col5, #T_301b4_row11_col5, #T_301b4_row12_col5, #T_301b4_row12_col7, #T_301b4_row13_col5 {\n",
              "  background-color: #688aef;\n",
              "  color: #f1f1f1;\n",
              "}\n",
              "#T_301b4_row4_col6, #T_301b4_row12_col6, #T_301b4_row13_col6 {\n",
              "  background-color: #5e7de7;\n",
              "  color: #f1f1f1;\n",
              "}\n",
              "#T_301b4_row5_col1, #T_301b4_row6_col12, #T_301b4_row6_col13, #T_301b4_row7_col4, #T_301b4_row8_col0, #T_301b4_row8_col10, #T_301b4_row8_col12 {\n",
              "  background-color: #3d50c3;\n",
              "  color: #f1f1f1;\n",
              "}\n",
              "#T_301b4_row5_col7 {\n",
              "  background-color: #80a3fa;\n",
              "  color: #f1f1f1;\n",
              "}\n",
              "#T_301b4_row5_col9 {\n",
              "  background-color: #5470de;\n",
              "  color: #f1f1f1;\n",
              "}\n",
              "#T_301b4_row6_col3 {\n",
              "  background-color: #f7ac8e;\n",
              "  color: #000000;\n",
              "}\n",
              "#T_301b4_row6_col8 {\n",
              "  background-color: #6687ed;\n",
              "  color: #f1f1f1;\n",
              "}\n",
              "#T_301b4_row6_col9 {\n",
              "  background-color: #bad0f8;\n",
              "  color: #000000;\n",
              "}\n",
              "#T_301b4_row7_col2, #T_301b4_row11_col1, #T_301b4_row11_col2, #T_301b4_row13_col1 {\n",
              "  background-color: #4c66d6;\n",
              "  color: #f1f1f1;\n",
              "}\n",
              "#T_301b4_row7_col9 {\n",
              "  background-color: #6c8ff1;\n",
              "  color: #f1f1f1;\n",
              "}\n",
              "#T_301b4_row8_col3, #T_301b4_row11_col9 {\n",
              "  background-color: #aac7fd;\n",
              "  color: #000000;\n",
              "}\n",
              "#T_301b4_row8_col6 {\n",
              "  background-color: #81a4fb;\n",
              "  color: #f1f1f1;\n",
              "}\n",
              "#T_301b4_row8_col7 {\n",
              "  background-color: #6384eb;\n",
              "  color: #f1f1f1;\n",
              "}\n",
              "#T_301b4_row8_col9 {\n",
              "  background-color: #6e90f2;\n",
              "  color: #f1f1f1;\n",
              "}\n",
              "#T_301b4_row9_col3 {\n",
              "  background-color: #efcfbf;\n",
              "  color: #000000;\n",
              "}\n",
              "#T_301b4_row9_col5, #T_301b4_row11_col12 {\n",
              "  background-color: #779af7;\n",
              "  color: #f1f1f1;\n",
              "}\n",
              "#T_301b4_row9_col6 {\n",
              "  background-color: #cdd9ec;\n",
              "  color: #000000;\n",
              "}\n",
              "#T_301b4_row9_col7 {\n",
              "  background-color: #94b6ff;\n",
              "  color: #000000;\n",
              "}\n",
              "#T_301b4_row9_col11, #T_301b4_row10_col11 {\n",
              "  background-color: #a6c4fe;\n",
              "  color: #000000;\n",
              "}\n",
              "#T_301b4_row10_col1 {\n",
              "  background-color: #4a63d3;\n",
              "  color: #f1f1f1;\n",
              "}\n",
              "#T_301b4_row10_col2, #T_301b4_row11_col4 {\n",
              "  background-color: #4961d2;\n",
              "  color: #f1f1f1;\n",
              "}\n",
              "#T_301b4_row10_col3, #T_301b4_row10_col5, #T_301b4_row13_col3 {\n",
              "  background-color: #6b8df0;\n",
              "  color: #f1f1f1;\n",
              "}\n",
              "#T_301b4_row10_col6 {\n",
              "  background-color: #6485ec;\n",
              "  color: #f1f1f1;\n",
              "}\n",
              "#T_301b4_row10_col7, #T_301b4_row13_col7 {\n",
              "  background-color: #6a8bef;\n",
              "  color: #f1f1f1;\n",
              "}\n",
              "#T_301b4_row11_col3 {\n",
              "  background-color: #9fbfff;\n",
              "  color: #000000;\n",
              "}\n",
              "#T_301b4_row11_col6 {\n",
              "  background-color: #89acfd;\n",
              "  color: #000000;\n",
              "}\n",
              "#T_301b4_row11_col10 {\n",
              "  background-color: #a9c6fd;\n",
              "  color: #000000;\n",
              "}\n",
              "#T_301b4_row11_col13 {\n",
              "  background-color: #9bbcff;\n",
              "  color: #000000;\n",
              "}\n",
              "#T_301b4_row12_col1, #T_301b4_row12_col2 {\n",
              "  background-color: #4e68d8;\n",
              "  color: #f1f1f1;\n",
              "}\n",
              "#T_301b4_row12_col11 {\n",
              "  background-color: #7597f6;\n",
              "  color: #f1f1f1;\n",
              "}\n",
              "#T_301b4_row13_col2 {\n",
              "  background-color: #4b64d5;\n",
              "  color: #f1f1f1;\n",
              "}\n",
              "#T_301b4_row13_col11 {\n",
              "  background-color: #98b9ff;\n",
              "  color: #000000;\n",
              "}\n",
              "</style>\n",
              "<table id=\"T_301b4_\" class=\"dataframe\">\n",
              "  <thead>\n",
              "    <tr>\n",
              "      <th class=\"blank level0\" >&nbsp;</th>\n",
              "      <th class=\"col_heading level0 col0\" >ID</th>\n",
              "      <th class=\"col_heading level0 col1\" >Age</th>\n",
              "      <th class=\"col_heading level0 col2\" >Experience</th>\n",
              "      <th class=\"col_heading level0 col3\" >Income</th>\n",
              "      <th class=\"col_heading level0 col4\" >ZIP Code</th>\n",
              "      <th class=\"col_heading level0 col5\" >Family</th>\n",
              "      <th class=\"col_heading level0 col6\" >CCAvg</th>\n",
              "      <th class=\"col_heading level0 col7\" >Education</th>\n",
              "      <th class=\"col_heading level0 col8\" >Mortgage</th>\n",
              "      <th class=\"col_heading level0 col9\" >Personal Loan</th>\n",
              "      <th class=\"col_heading level0 col10\" >Securities Account</th>\n",
              "      <th class=\"col_heading level0 col11\" >CD Account</th>\n",
              "      <th class=\"col_heading level0 col12\" >Online</th>\n",
              "      <th class=\"col_heading level0 col13\" >CreditCard</th>\n",
              "    </tr>\n",
              "  </thead>\n",
              "  <tbody>\n",
              "    <tr>\n",
              "      <th id=\"T_301b4_level0_row0\" class=\"row_heading level0 row0\" >ID</th>\n",
              "      <td id=\"T_301b4_row0_col0\" class=\"data row0 col0\" >1.000000</td>\n",
              "      <td id=\"T_301b4_row0_col1\" class=\"data row0 col1\" >-0.008473</td>\n",
              "      <td id=\"T_301b4_row0_col2\" class=\"data row0 col2\" >-0.008326</td>\n",
              "      <td id=\"T_301b4_row0_col3\" class=\"data row0 col3\" >-0.017695</td>\n",
              "      <td id=\"T_301b4_row0_col4\" class=\"data row0 col4\" >0.013432</td>\n",
              "      <td id=\"T_301b4_row0_col5\" class=\"data row0 col5\" >-0.016797</td>\n",
              "      <td id=\"T_301b4_row0_col6\" class=\"data row0 col6\" >-0.024675</td>\n",
              "      <td id=\"T_301b4_row0_col7\" class=\"data row0 col7\" >0.021463</td>\n",
              "      <td id=\"T_301b4_row0_col8\" class=\"data row0 col8\" >-0.013920</td>\n",
              "      <td id=\"T_301b4_row0_col9\" class=\"data row0 col9\" >-0.024801</td>\n",
              "      <td id=\"T_301b4_row0_col10\" class=\"data row0 col10\" >-0.016972</td>\n",
              "      <td id=\"T_301b4_row0_col11\" class=\"data row0 col11\" >-0.006909</td>\n",
              "      <td id=\"T_301b4_row0_col12\" class=\"data row0 col12\" >-0.002528</td>\n",
              "      <td id=\"T_301b4_row0_col13\" class=\"data row0 col13\" >0.017028</td>\n",
              "    </tr>\n",
              "    <tr>\n",
              "      <th id=\"T_301b4_level0_row1\" class=\"row_heading level0 row1\" >Age</th>\n",
              "      <td id=\"T_301b4_row1_col0\" class=\"data row1 col0\" >-0.008473</td>\n",
              "      <td id=\"T_301b4_row1_col1\" class=\"data row1 col1\" >1.000000</td>\n",
              "      <td id=\"T_301b4_row1_col2\" class=\"data row1 col2\" >0.994215</td>\n",
              "      <td id=\"T_301b4_row1_col3\" class=\"data row1 col3\" >-0.055269</td>\n",
              "      <td id=\"T_301b4_row1_col4\" class=\"data row1 col4\" >-0.029216</td>\n",
              "      <td id=\"T_301b4_row1_col5\" class=\"data row1 col5\" >-0.046418</td>\n",
              "      <td id=\"T_301b4_row1_col6\" class=\"data row1 col6\" >-0.052012</td>\n",
              "      <td id=\"T_301b4_row1_col7\" class=\"data row1 col7\" >0.041334</td>\n",
              "      <td id=\"T_301b4_row1_col8\" class=\"data row1 col8\" >-0.012539</td>\n",
              "      <td id=\"T_301b4_row1_col9\" class=\"data row1 col9\" >-0.007726</td>\n",
              "      <td id=\"T_301b4_row1_col10\" class=\"data row1 col10\" >-0.000436</td>\n",
              "      <td id=\"T_301b4_row1_col11\" class=\"data row1 col11\" >0.008043</td>\n",
              "      <td id=\"T_301b4_row1_col12\" class=\"data row1 col12\" >0.013702</td>\n",
              "      <td id=\"T_301b4_row1_col13\" class=\"data row1 col13\" >0.007681</td>\n",
              "    </tr>\n",
              "    <tr>\n",
              "      <th id=\"T_301b4_level0_row2\" class=\"row_heading level0 row2\" >Experience</th>\n",
              "      <td id=\"T_301b4_row2_col0\" class=\"data row2 col0\" >-0.008326</td>\n",
              "      <td id=\"T_301b4_row2_col1\" class=\"data row2 col1\" >0.994215</td>\n",
              "      <td id=\"T_301b4_row2_col2\" class=\"data row2 col2\" >1.000000</td>\n",
              "      <td id=\"T_301b4_row2_col3\" class=\"data row2 col3\" >-0.046574</td>\n",
              "      <td id=\"T_301b4_row2_col4\" class=\"data row2 col4\" >-0.028626</td>\n",
              "      <td id=\"T_301b4_row2_col5\" class=\"data row2 col5\" >-0.052563</td>\n",
              "      <td id=\"T_301b4_row2_col6\" class=\"data row2 col6\" >-0.050077</td>\n",
              "      <td id=\"T_301b4_row2_col7\" class=\"data row2 col7\" >0.013152</td>\n",
              "      <td id=\"T_301b4_row2_col8\" class=\"data row2 col8\" >-0.010582</td>\n",
              "      <td id=\"T_301b4_row2_col9\" class=\"data row2 col9\" >-0.007413</td>\n",
              "      <td id=\"T_301b4_row2_col10\" class=\"data row2 col10\" >-0.001232</td>\n",
              "      <td id=\"T_301b4_row2_col11\" class=\"data row2 col11\" >0.010353</td>\n",
              "      <td id=\"T_301b4_row2_col12\" class=\"data row2 col12\" >0.013898</td>\n",
              "      <td id=\"T_301b4_row2_col13\" class=\"data row2 col13\" >0.008967</td>\n",
              "    </tr>\n",
              "    <tr>\n",
              "      <th id=\"T_301b4_level0_row3\" class=\"row_heading level0 row3\" >Income</th>\n",
              "      <td id=\"T_301b4_row3_col0\" class=\"data row3 col0\" >-0.017695</td>\n",
              "      <td id=\"T_301b4_row3_col1\" class=\"data row3 col1\" >-0.055269</td>\n",
              "      <td id=\"T_301b4_row3_col2\" class=\"data row3 col2\" >-0.046574</td>\n",
              "      <td id=\"T_301b4_row3_col3\" class=\"data row3 col3\" >1.000000</td>\n",
              "      <td id=\"T_301b4_row3_col4\" class=\"data row3 col4\" >-0.016410</td>\n",
              "      <td id=\"T_301b4_row3_col5\" class=\"data row3 col5\" >-0.157501</td>\n",
              "      <td id=\"T_301b4_row3_col6\" class=\"data row3 col6\" >0.645984</td>\n",
              "      <td id=\"T_301b4_row3_col7\" class=\"data row3 col7\" >-0.187524</td>\n",
              "      <td id=\"T_301b4_row3_col8\" class=\"data row3 col8\" >0.206806</td>\n",
              "      <td id=\"T_301b4_row3_col9\" class=\"data row3 col9\" >0.502462</td>\n",
              "      <td id=\"T_301b4_row3_col10\" class=\"data row3 col10\" >-0.002616</td>\n",
              "      <td id=\"T_301b4_row3_col11\" class=\"data row3 col11\" >0.169738</td>\n",
              "      <td id=\"T_301b4_row3_col12\" class=\"data row3 col12\" >0.014206</td>\n",
              "      <td id=\"T_301b4_row3_col13\" class=\"data row3 col13\" >-0.002385</td>\n",
              "    </tr>\n",
              "    <tr>\n",
              "      <th id=\"T_301b4_level0_row4\" class=\"row_heading level0 row4\" >ZIP Code</th>\n",
              "      <td id=\"T_301b4_row4_col0\" class=\"data row4 col0\" >0.013432</td>\n",
              "      <td id=\"T_301b4_row4_col1\" class=\"data row4 col1\" >-0.029216</td>\n",
              "      <td id=\"T_301b4_row4_col2\" class=\"data row4 col2\" >-0.028626</td>\n",
              "      <td id=\"T_301b4_row4_col3\" class=\"data row4 col3\" >-0.016410</td>\n",
              "      <td id=\"T_301b4_row4_col4\" class=\"data row4 col4\" >1.000000</td>\n",
              "      <td id=\"T_301b4_row4_col5\" class=\"data row4 col5\" >0.011778</td>\n",
              "      <td id=\"T_301b4_row4_col6\" class=\"data row4 col6\" >-0.004061</td>\n",
              "      <td id=\"T_301b4_row4_col7\" class=\"data row4 col7\" >-0.017377</td>\n",
              "      <td id=\"T_301b4_row4_col8\" class=\"data row4 col8\" >0.007383</td>\n",
              "      <td id=\"T_301b4_row4_col9\" class=\"data row4 col9\" >0.000107</td>\n",
              "      <td id=\"T_301b4_row4_col10\" class=\"data row4 col10\" >0.004704</td>\n",
              "      <td id=\"T_301b4_row4_col11\" class=\"data row4 col11\" >0.019972</td>\n",
              "      <td id=\"T_301b4_row4_col12\" class=\"data row4 col12\" >0.016990</td>\n",
              "      <td id=\"T_301b4_row4_col13\" class=\"data row4 col13\" >0.007691</td>\n",
              "    </tr>\n",
              "    <tr>\n",
              "      <th id=\"T_301b4_level0_row5\" class=\"row_heading level0 row5\" >Family</th>\n",
              "      <td id=\"T_301b4_row5_col0\" class=\"data row5 col0\" >-0.016797</td>\n",
              "      <td id=\"T_301b4_row5_col1\" class=\"data row5 col1\" >-0.046418</td>\n",
              "      <td id=\"T_301b4_row5_col2\" class=\"data row5 col2\" >-0.052563</td>\n",
              "      <td id=\"T_301b4_row5_col3\" class=\"data row5 col3\" >-0.157501</td>\n",
              "      <td id=\"T_301b4_row5_col4\" class=\"data row5 col4\" >0.011778</td>\n",
              "      <td id=\"T_301b4_row5_col5\" class=\"data row5 col5\" >1.000000</td>\n",
              "      <td id=\"T_301b4_row5_col6\" class=\"data row5 col6\" >-0.109275</td>\n",
              "      <td id=\"T_301b4_row5_col7\" class=\"data row5 col7\" >0.064929</td>\n",
              "      <td id=\"T_301b4_row5_col8\" class=\"data row5 col8\" >-0.020445</td>\n",
              "      <td id=\"T_301b4_row5_col9\" class=\"data row5 col9\" >0.061367</td>\n",
              "      <td id=\"T_301b4_row5_col10\" class=\"data row5 col10\" >0.019994</td>\n",
              "      <td id=\"T_301b4_row5_col11\" class=\"data row5 col11\" >0.014110</td>\n",
              "      <td id=\"T_301b4_row5_col12\" class=\"data row5 col12\" >0.010354</td>\n",
              "      <td id=\"T_301b4_row5_col13\" class=\"data row5 col13\" >0.011588</td>\n",
              "    </tr>\n",
              "    <tr>\n",
              "      <th id=\"T_301b4_level0_row6\" class=\"row_heading level0 row6\" >CCAvg</th>\n",
              "      <td id=\"T_301b4_row6_col0\" class=\"data row6 col0\" >-0.024675</td>\n",
              "      <td id=\"T_301b4_row6_col1\" class=\"data row6 col1\" >-0.052012</td>\n",
              "      <td id=\"T_301b4_row6_col2\" class=\"data row6 col2\" >-0.050077</td>\n",
              "      <td id=\"T_301b4_row6_col3\" class=\"data row6 col3\" >0.645984</td>\n",
              "      <td id=\"T_301b4_row6_col4\" class=\"data row6 col4\" >-0.004061</td>\n",
              "      <td id=\"T_301b4_row6_col5\" class=\"data row6 col5\" >-0.109275</td>\n",
              "      <td id=\"T_301b4_row6_col6\" class=\"data row6 col6\" >1.000000</td>\n",
              "      <td id=\"T_301b4_row6_col7\" class=\"data row6 col7\" >-0.136124</td>\n",
              "      <td id=\"T_301b4_row6_col8\" class=\"data row6 col8\" >0.109905</td>\n",
              "      <td id=\"T_301b4_row6_col9\" class=\"data row6 col9\" >0.366889</td>\n",
              "      <td id=\"T_301b4_row6_col10\" class=\"data row6 col10\" >0.015086</td>\n",
              "      <td id=\"T_301b4_row6_col11\" class=\"data row6 col11\" >0.136534</td>\n",
              "      <td id=\"T_301b4_row6_col12\" class=\"data row6 col12\" >-0.003611</td>\n",
              "      <td id=\"T_301b4_row6_col13\" class=\"data row6 col13\" >-0.006689</td>\n",
              "    </tr>\n",
              "    <tr>\n",
              "      <th id=\"T_301b4_level0_row7\" class=\"row_heading level0 row7\" >Education</th>\n",
              "      <td id=\"T_301b4_row7_col0\" class=\"data row7 col0\" >0.021463</td>\n",
              "      <td id=\"T_301b4_row7_col1\" class=\"data row7 col1\" >0.041334</td>\n",
              "      <td id=\"T_301b4_row7_col2\" class=\"data row7 col2\" >0.013152</td>\n",
              "      <td id=\"T_301b4_row7_col3\" class=\"data row7 col3\" >-0.187524</td>\n",
              "      <td id=\"T_301b4_row7_col4\" class=\"data row7 col4\" >-0.017377</td>\n",
              "      <td id=\"T_301b4_row7_col5\" class=\"data row7 col5\" >0.064929</td>\n",
              "      <td id=\"T_301b4_row7_col6\" class=\"data row7 col6\" >-0.136124</td>\n",
              "      <td id=\"T_301b4_row7_col7\" class=\"data row7 col7\" >1.000000</td>\n",
              "      <td id=\"T_301b4_row7_col8\" class=\"data row7 col8\" >-0.033327</td>\n",
              "      <td id=\"T_301b4_row7_col9\" class=\"data row7 col9\" >0.136722</td>\n",
              "      <td id=\"T_301b4_row7_col10\" class=\"data row7 col10\" >-0.010812</td>\n",
              "      <td id=\"T_301b4_row7_col11\" class=\"data row7 col11\" >0.013934</td>\n",
              "      <td id=\"T_301b4_row7_col12\" class=\"data row7 col12\" >-0.015004</td>\n",
              "      <td id=\"T_301b4_row7_col13\" class=\"data row7 col13\" >-0.011014</td>\n",
              "    </tr>\n",
              "    <tr>\n",
              "      <th id=\"T_301b4_level0_row8\" class=\"row_heading level0 row8\" >Mortgage</th>\n",
              "      <td id=\"T_301b4_row8_col0\" class=\"data row8 col0\" >-0.013920</td>\n",
              "      <td id=\"T_301b4_row8_col1\" class=\"data row8 col1\" >-0.012539</td>\n",
              "      <td id=\"T_301b4_row8_col2\" class=\"data row8 col2\" >-0.010582</td>\n",
              "      <td id=\"T_301b4_row8_col3\" class=\"data row8 col3\" >0.206806</td>\n",
              "      <td id=\"T_301b4_row8_col4\" class=\"data row8 col4\" >0.007383</td>\n",
              "      <td id=\"T_301b4_row8_col5\" class=\"data row8 col5\" >-0.020445</td>\n",
              "      <td id=\"T_301b4_row8_col6\" class=\"data row8 col6\" >0.109905</td>\n",
              "      <td id=\"T_301b4_row8_col7\" class=\"data row8 col7\" >-0.033327</td>\n",
              "      <td id=\"T_301b4_row8_col8\" class=\"data row8 col8\" >1.000000</td>\n",
              "      <td id=\"T_301b4_row8_col9\" class=\"data row8 col9\" >0.142095</td>\n",
              "      <td id=\"T_301b4_row8_col10\" class=\"data row8 col10\" >-0.005411</td>\n",
              "      <td id=\"T_301b4_row8_col11\" class=\"data row8 col11\" >0.089311</td>\n",
              "      <td id=\"T_301b4_row8_col12\" class=\"data row8 col12\" >-0.005995</td>\n",
              "      <td id=\"T_301b4_row8_col13\" class=\"data row8 col13\" >-0.007231</td>\n",
              "    </tr>\n",
              "    <tr>\n",
              "      <th id=\"T_301b4_level0_row9\" class=\"row_heading level0 row9\" >Personal Loan</th>\n",
              "      <td id=\"T_301b4_row9_col0\" class=\"data row9 col0\" >-0.024801</td>\n",
              "      <td id=\"T_301b4_row9_col1\" class=\"data row9 col1\" >-0.007726</td>\n",
              "      <td id=\"T_301b4_row9_col2\" class=\"data row9 col2\" >-0.007413</td>\n",
              "      <td id=\"T_301b4_row9_col3\" class=\"data row9 col3\" >0.502462</td>\n",
              "      <td id=\"T_301b4_row9_col4\" class=\"data row9 col4\" >0.000107</td>\n",
              "      <td id=\"T_301b4_row9_col5\" class=\"data row9 col5\" >0.061367</td>\n",
              "      <td id=\"T_301b4_row9_col6\" class=\"data row9 col6\" >0.366889</td>\n",
              "      <td id=\"T_301b4_row9_col7\" class=\"data row9 col7\" >0.136722</td>\n",
              "      <td id=\"T_301b4_row9_col8\" class=\"data row9 col8\" >0.142095</td>\n",
              "      <td id=\"T_301b4_row9_col9\" class=\"data row9 col9\" >1.000000</td>\n",
              "      <td id=\"T_301b4_row9_col10\" class=\"data row9 col10\" >0.021954</td>\n",
              "      <td id=\"T_301b4_row9_col11\" class=\"data row9 col11\" >0.316355</td>\n",
              "      <td id=\"T_301b4_row9_col12\" class=\"data row9 col12\" >0.006278</td>\n",
              "      <td id=\"T_301b4_row9_col13\" class=\"data row9 col13\" >0.002802</td>\n",
              "    </tr>\n",
              "    <tr>\n",
              "      <th id=\"T_301b4_level0_row10\" class=\"row_heading level0 row10\" >Securities Account</th>\n",
              "      <td id=\"T_301b4_row10_col0\" class=\"data row10 col0\" >-0.016972</td>\n",
              "      <td id=\"T_301b4_row10_col1\" class=\"data row10 col1\" >-0.000436</td>\n",
              "      <td id=\"T_301b4_row10_col2\" class=\"data row10 col2\" >-0.001232</td>\n",
              "      <td id=\"T_301b4_row10_col3\" class=\"data row10 col3\" >-0.002616</td>\n",
              "      <td id=\"T_301b4_row10_col4\" class=\"data row10 col4\" >0.004704</td>\n",
              "      <td id=\"T_301b4_row10_col5\" class=\"data row10 col5\" >0.019994</td>\n",
              "      <td id=\"T_301b4_row10_col6\" class=\"data row10 col6\" >0.015086</td>\n",
              "      <td id=\"T_301b4_row10_col7\" class=\"data row10 col7\" >-0.010812</td>\n",
              "      <td id=\"T_301b4_row10_col8\" class=\"data row10 col8\" >-0.005411</td>\n",
              "      <td id=\"T_301b4_row10_col9\" class=\"data row10 col9\" >0.021954</td>\n",
              "      <td id=\"T_301b4_row10_col10\" class=\"data row10 col10\" >1.000000</td>\n",
              "      <td id=\"T_301b4_row10_col11\" class=\"data row10 col11\" >0.317034</td>\n",
              "      <td id=\"T_301b4_row10_col12\" class=\"data row10 col12\" >0.012627</td>\n",
              "      <td id=\"T_301b4_row10_col13\" class=\"data row10 col13\" >-0.015028</td>\n",
              "    </tr>\n",
              "    <tr>\n",
              "      <th id=\"T_301b4_level0_row11\" class=\"row_heading level0 row11\" >CD Account</th>\n",
              "      <td id=\"T_301b4_row11_col0\" class=\"data row11 col0\" >-0.006909</td>\n",
              "      <td id=\"T_301b4_row11_col1\" class=\"data row11 col1\" >0.008043</td>\n",
              "      <td id=\"T_301b4_row11_col2\" class=\"data row11 col2\" >0.010353</td>\n",
              "      <td id=\"T_301b4_row11_col3\" class=\"data row11 col3\" >0.169738</td>\n",
              "      <td id=\"T_301b4_row11_col4\" class=\"data row11 col4\" >0.019972</td>\n",
              "      <td id=\"T_301b4_row11_col5\" class=\"data row11 col5\" >0.014110</td>\n",
              "      <td id=\"T_301b4_row11_col6\" class=\"data row11 col6\" >0.136534</td>\n",
              "      <td id=\"T_301b4_row11_col7\" class=\"data row11 col7\" >0.013934</td>\n",
              "      <td id=\"T_301b4_row11_col8\" class=\"data row11 col8\" >0.089311</td>\n",
              "      <td id=\"T_301b4_row11_col9\" class=\"data row11 col9\" >0.316355</td>\n",
              "      <td id=\"T_301b4_row11_col10\" class=\"data row11 col10\" >0.317034</td>\n",
              "      <td id=\"T_301b4_row11_col11\" class=\"data row11 col11\" >1.000000</td>\n",
              "      <td id=\"T_301b4_row11_col12\" class=\"data row11 col12\" >0.175880</td>\n",
              "      <td id=\"T_301b4_row11_col13\" class=\"data row11 col13\" >0.278644</td>\n",
              "    </tr>\n",
              "    <tr>\n",
              "      <th id=\"T_301b4_level0_row12\" class=\"row_heading level0 row12\" >Online</th>\n",
              "      <td id=\"T_301b4_row12_col0\" class=\"data row12 col0\" >-0.002528</td>\n",
              "      <td id=\"T_301b4_row12_col1\" class=\"data row12 col1\" >0.013702</td>\n",
              "      <td id=\"T_301b4_row12_col2\" class=\"data row12 col2\" >0.013898</td>\n",
              "      <td id=\"T_301b4_row12_col3\" class=\"data row12 col3\" >0.014206</td>\n",
              "      <td id=\"T_301b4_row12_col4\" class=\"data row12 col4\" >0.016990</td>\n",
              "      <td id=\"T_301b4_row12_col5\" class=\"data row12 col5\" >0.010354</td>\n",
              "      <td id=\"T_301b4_row12_col6\" class=\"data row12 col6\" >-0.003611</td>\n",
              "      <td id=\"T_301b4_row12_col7\" class=\"data row12 col7\" >-0.015004</td>\n",
              "      <td id=\"T_301b4_row12_col8\" class=\"data row12 col8\" >-0.005995</td>\n",
              "      <td id=\"T_301b4_row12_col9\" class=\"data row12 col9\" >0.006278</td>\n",
              "      <td id=\"T_301b4_row12_col10\" class=\"data row12 col10\" >0.012627</td>\n",
              "      <td id=\"T_301b4_row12_col11\" class=\"data row12 col11\" >0.175880</td>\n",
              "      <td id=\"T_301b4_row12_col12\" class=\"data row12 col12\" >1.000000</td>\n",
              "      <td id=\"T_301b4_row12_col13\" class=\"data row12 col13\" >0.004210</td>\n",
              "    </tr>\n",
              "    <tr>\n",
              "      <th id=\"T_301b4_level0_row13\" class=\"row_heading level0 row13\" >CreditCard</th>\n",
              "      <td id=\"T_301b4_row13_col0\" class=\"data row13 col0\" >0.017028</td>\n",
              "      <td id=\"T_301b4_row13_col1\" class=\"data row13 col1\" >0.007681</td>\n",
              "      <td id=\"T_301b4_row13_col2\" class=\"data row13 col2\" >0.008967</td>\n",
              "      <td id=\"T_301b4_row13_col3\" class=\"data row13 col3\" >-0.002385</td>\n",
              "      <td id=\"T_301b4_row13_col4\" class=\"data row13 col4\" >0.007691</td>\n",
              "      <td id=\"T_301b4_row13_col5\" class=\"data row13 col5\" >0.011588</td>\n",
              "      <td id=\"T_301b4_row13_col6\" class=\"data row13 col6\" >-0.006689</td>\n",
              "      <td id=\"T_301b4_row13_col7\" class=\"data row13 col7\" >-0.011014</td>\n",
              "      <td id=\"T_301b4_row13_col8\" class=\"data row13 col8\" >-0.007231</td>\n",
              "      <td id=\"T_301b4_row13_col9\" class=\"data row13 col9\" >0.002802</td>\n",
              "      <td id=\"T_301b4_row13_col10\" class=\"data row13 col10\" >-0.015028</td>\n",
              "      <td id=\"T_301b4_row13_col11\" class=\"data row13 col11\" >0.278644</td>\n",
              "      <td id=\"T_301b4_row13_col12\" class=\"data row13 col12\" >0.004210</td>\n",
              "      <td id=\"T_301b4_row13_col13\" class=\"data row13 col13\" >1.000000</td>\n",
              "    </tr>\n",
              "  </tbody>\n",
              "</table>\n"
            ]
          },
          "metadata": {},
          "execution_count": 97
        },
        {
          "output_type": "display_data",
          "data": {
            "text/plain": [
              "<Figure size 864x720 with 0 Axes>"
            ]
          },
          "metadata": {}
        }
      ]
    },
    {
      "cell_type": "code",
      "source": [
        "#df[(df['Experience']< 0)]\n",
        "# (data['Experience']<0)\n",
        "  \n",
        "\n"
      ],
      "metadata": {
        "id": "wHNo7TKB8Vz2"
      },
      "execution_count": null,
      "outputs": []
    },
    {
      "cell_type": "markdown",
      "source": [
        "i replaced this negative values in experience column as positive values"
      ],
      "metadata": {
        "id": "yEImJP8WXXH1"
      }
    },
    {
      "cell_type": "code",
      "source": [
        "data.Experience.replace(to_replace =[-1],value=1,inplace=True)\n",
        "data[(data['Experience']< 0)]['Experience'].value_counts().sum()"
      ],
      "metadata": {
        "colab": {
          "base_uri": "https://localhost:8080/"
        },
        "id": "LjWlNpQlMGc6",
        "outputId": "0e2c529b-3ce1-4e1a-c60d-0fcf1951add7"
      },
      "execution_count": null,
      "outputs": [
        {
          "output_type": "execute_result",
          "data": {
            "text/plain": [
              "19"
            ]
          },
          "metadata": {},
          "execution_count": 99
        }
      ]
    },
    {
      "cell_type": "code",
      "source": [
        "data.Experience.replace(to_replace =[-2],value=2,inplace=True)\n",
        "data[(data['Experience']< 0)]['Experience'].value_counts().sum()"
      ],
      "metadata": {
        "colab": {
          "base_uri": "https://localhost:8080/"
        },
        "id": "1yBbR5SrTGwz",
        "outputId": "292771d8-ba25-4fa5-9081-8d399cd51c40"
      },
      "execution_count": null,
      "outputs": [
        {
          "output_type": "execute_result",
          "data": {
            "text/plain": [
              "4"
            ]
          },
          "metadata": {},
          "execution_count": 100
        }
      ]
    },
    {
      "cell_type": "code",
      "source": [
        "data.Experience.replace(to_replace =[-3],value=3,inplace=True)\n",
        "data[(data['Experience']< 0)]['Experience'].value_counts().sum()"
      ],
      "metadata": {
        "colab": {
          "base_uri": "https://localhost:8080/"
        },
        "id": "bGnFUNJXSGkD",
        "outputId": "02407a60-cb10-4a2c-9ac1-4707798ada5a"
      },
      "execution_count": null,
      "outputs": [
        {
          "output_type": "execute_result",
          "data": {
            "text/plain": [
              "0"
            ]
          },
          "metadata": {},
          "execution_count": 101
        }
      ]
    },
    {
      "cell_type": "code",
      "source": [
        "a=(data['Experience']<0)"
      ],
      "metadata": {
        "id": "tKt_P4J4QPiB"
      },
      "execution_count": null,
      "outputs": []
    },
    {
      "cell_type": "code",
      "source": [
        "a.count()"
      ],
      "metadata": {
        "colab": {
          "base_uri": "https://localhost:8080/"
        },
        "id": "rsSvWK32WXMC",
        "outputId": "e2570440-ce89-4162-ccad-a0d9615fde60"
      },
      "execution_count": null,
      "outputs": [
        {
          "output_type": "execute_result",
          "data": {
            "text/plain": [
              "5000"
            ]
          },
          "metadata": {},
          "execution_count": 103
        }
      ]
    },
    {
      "cell_type": "code",
      "source": [
        "data.describe().T"
      ],
      "metadata": {
        "colab": {
          "base_uri": "https://localhost:8080/",
          "height": 488
        },
        "id": "MUbnLLXHWZpb",
        "outputId": "26783c79-bb2e-4e6d-e96b-546c10869d69"
      },
      "execution_count": null,
      "outputs": [
        {
          "output_type": "execute_result",
          "data": {
            "text/plain": [
              "                     count          mean          std     min       25%  \\\n",
              "ID                  5000.0   2500.500000  1443.520003     1.0   1250.75   \n",
              "Age                 5000.0     45.338400    11.463166    23.0     35.00   \n",
              "Experience          5000.0     20.134600    11.415189     0.0     10.00   \n",
              "Income              5000.0     73.774200    46.033729     8.0     39.00   \n",
              "ZIP Code            5000.0  93152.503000  2121.852197  9307.0  91911.00   \n",
              "Family              5000.0      2.396400     1.147663     1.0      1.00   \n",
              "CCAvg               5000.0      1.937938     1.747659     0.0      0.70   \n",
              "Education           5000.0      1.881000     0.839869     1.0      1.00   \n",
              "Mortgage            5000.0     56.498800   101.713802     0.0      0.00   \n",
              "Securities Account  5000.0      0.104400     0.305809     0.0      0.00   \n",
              "CD Account          5000.0      0.060400     0.238250     0.0      0.00   \n",
              "Online              5000.0      0.596800     0.490589     0.0      0.00   \n",
              "CreditCard          5000.0      0.294000     0.455637     0.0      0.00   \n",
              "Personal Loan       5000.0      0.096000     0.294621     0.0      0.00   \n",
              "\n",
              "                        50%       75%      max  \n",
              "ID                   2500.5   3750.25   5000.0  \n",
              "Age                    45.0     55.00     67.0  \n",
              "Experience             20.0     30.00     43.0  \n",
              "Income                 64.0     98.00    224.0  \n",
              "ZIP Code            93437.0  94608.00  96651.0  \n",
              "Family                  2.0      3.00      4.0  \n",
              "CCAvg                   1.5      2.50     10.0  \n",
              "Education               2.0      3.00      3.0  \n",
              "Mortgage                0.0    101.00    635.0  \n",
              "Securities Account      0.0      0.00      1.0  \n",
              "CD Account              0.0      0.00      1.0  \n",
              "Online                  1.0      1.00      1.0  \n",
              "CreditCard              0.0      1.00      1.0  \n",
              "Personal Loan           0.0      0.00      1.0  "
            ],
            "text/html": [
              "\n",
              "  <div id=\"df-bb7c5729-92ee-4a74-b7e3-71c258fa7606\">\n",
              "    <div class=\"colab-df-container\">\n",
              "      <div>\n",
              "<style scoped>\n",
              "    .dataframe tbody tr th:only-of-type {\n",
              "        vertical-align: middle;\n",
              "    }\n",
              "\n",
              "    .dataframe tbody tr th {\n",
              "        vertical-align: top;\n",
              "    }\n",
              "\n",
              "    .dataframe thead th {\n",
              "        text-align: right;\n",
              "    }\n",
              "</style>\n",
              "<table border=\"1\" class=\"dataframe\">\n",
              "  <thead>\n",
              "    <tr style=\"text-align: right;\">\n",
              "      <th></th>\n",
              "      <th>count</th>\n",
              "      <th>mean</th>\n",
              "      <th>std</th>\n",
              "      <th>min</th>\n",
              "      <th>25%</th>\n",
              "      <th>50%</th>\n",
              "      <th>75%</th>\n",
              "      <th>max</th>\n",
              "    </tr>\n",
              "  </thead>\n",
              "  <tbody>\n",
              "    <tr>\n",
              "      <th>ID</th>\n",
              "      <td>5000.0</td>\n",
              "      <td>2500.500000</td>\n",
              "      <td>1443.520003</td>\n",
              "      <td>1.0</td>\n",
              "      <td>1250.75</td>\n",
              "      <td>2500.5</td>\n",
              "      <td>3750.25</td>\n",
              "      <td>5000.0</td>\n",
              "    </tr>\n",
              "    <tr>\n",
              "      <th>Age</th>\n",
              "      <td>5000.0</td>\n",
              "      <td>45.338400</td>\n",
              "      <td>11.463166</td>\n",
              "      <td>23.0</td>\n",
              "      <td>35.00</td>\n",
              "      <td>45.0</td>\n",
              "      <td>55.00</td>\n",
              "      <td>67.0</td>\n",
              "    </tr>\n",
              "    <tr>\n",
              "      <th>Experience</th>\n",
              "      <td>5000.0</td>\n",
              "      <td>20.134600</td>\n",
              "      <td>11.415189</td>\n",
              "      <td>0.0</td>\n",
              "      <td>10.00</td>\n",
              "      <td>20.0</td>\n",
              "      <td>30.00</td>\n",
              "      <td>43.0</td>\n",
              "    </tr>\n",
              "    <tr>\n",
              "      <th>Income</th>\n",
              "      <td>5000.0</td>\n",
              "      <td>73.774200</td>\n",
              "      <td>46.033729</td>\n",
              "      <td>8.0</td>\n",
              "      <td>39.00</td>\n",
              "      <td>64.0</td>\n",
              "      <td>98.00</td>\n",
              "      <td>224.0</td>\n",
              "    </tr>\n",
              "    <tr>\n",
              "      <th>ZIP Code</th>\n",
              "      <td>5000.0</td>\n",
              "      <td>93152.503000</td>\n",
              "      <td>2121.852197</td>\n",
              "      <td>9307.0</td>\n",
              "      <td>91911.00</td>\n",
              "      <td>93437.0</td>\n",
              "      <td>94608.00</td>\n",
              "      <td>96651.0</td>\n",
              "    </tr>\n",
              "    <tr>\n",
              "      <th>Family</th>\n",
              "      <td>5000.0</td>\n",
              "      <td>2.396400</td>\n",
              "      <td>1.147663</td>\n",
              "      <td>1.0</td>\n",
              "      <td>1.00</td>\n",
              "      <td>2.0</td>\n",
              "      <td>3.00</td>\n",
              "      <td>4.0</td>\n",
              "    </tr>\n",
              "    <tr>\n",
              "      <th>CCAvg</th>\n",
              "      <td>5000.0</td>\n",
              "      <td>1.937938</td>\n",
              "      <td>1.747659</td>\n",
              "      <td>0.0</td>\n",
              "      <td>0.70</td>\n",
              "      <td>1.5</td>\n",
              "      <td>2.50</td>\n",
              "      <td>10.0</td>\n",
              "    </tr>\n",
              "    <tr>\n",
              "      <th>Education</th>\n",
              "      <td>5000.0</td>\n",
              "      <td>1.881000</td>\n",
              "      <td>0.839869</td>\n",
              "      <td>1.0</td>\n",
              "      <td>1.00</td>\n",
              "      <td>2.0</td>\n",
              "      <td>3.00</td>\n",
              "      <td>3.0</td>\n",
              "    </tr>\n",
              "    <tr>\n",
              "      <th>Mortgage</th>\n",
              "      <td>5000.0</td>\n",
              "      <td>56.498800</td>\n",
              "      <td>101.713802</td>\n",
              "      <td>0.0</td>\n",
              "      <td>0.00</td>\n",
              "      <td>0.0</td>\n",
              "      <td>101.00</td>\n",
              "      <td>635.0</td>\n",
              "    </tr>\n",
              "    <tr>\n",
              "      <th>Securities Account</th>\n",
              "      <td>5000.0</td>\n",
              "      <td>0.104400</td>\n",
              "      <td>0.305809</td>\n",
              "      <td>0.0</td>\n",
              "      <td>0.00</td>\n",
              "      <td>0.0</td>\n",
              "      <td>0.00</td>\n",
              "      <td>1.0</td>\n",
              "    </tr>\n",
              "    <tr>\n",
              "      <th>CD Account</th>\n",
              "      <td>5000.0</td>\n",
              "      <td>0.060400</td>\n",
              "      <td>0.238250</td>\n",
              "      <td>0.0</td>\n",
              "      <td>0.00</td>\n",
              "      <td>0.0</td>\n",
              "      <td>0.00</td>\n",
              "      <td>1.0</td>\n",
              "    </tr>\n",
              "    <tr>\n",
              "      <th>Online</th>\n",
              "      <td>5000.0</td>\n",
              "      <td>0.596800</td>\n",
              "      <td>0.490589</td>\n",
              "      <td>0.0</td>\n",
              "      <td>0.00</td>\n",
              "      <td>1.0</td>\n",
              "      <td>1.00</td>\n",
              "      <td>1.0</td>\n",
              "    </tr>\n",
              "    <tr>\n",
              "      <th>CreditCard</th>\n",
              "      <td>5000.0</td>\n",
              "      <td>0.294000</td>\n",
              "      <td>0.455637</td>\n",
              "      <td>0.0</td>\n",
              "      <td>0.00</td>\n",
              "      <td>0.0</td>\n",
              "      <td>1.00</td>\n",
              "      <td>1.0</td>\n",
              "    </tr>\n",
              "    <tr>\n",
              "      <th>Personal Loan</th>\n",
              "      <td>5000.0</td>\n",
              "      <td>0.096000</td>\n",
              "      <td>0.294621</td>\n",
              "      <td>0.0</td>\n",
              "      <td>0.00</td>\n",
              "      <td>0.0</td>\n",
              "      <td>0.00</td>\n",
              "      <td>1.0</td>\n",
              "    </tr>\n",
              "  </tbody>\n",
              "</table>\n",
              "</div>\n",
              "      <button class=\"colab-df-convert\" onclick=\"convertToInteractive('df-bb7c5729-92ee-4a74-b7e3-71c258fa7606')\"\n",
              "              title=\"Convert this dataframe to an interactive table.\"\n",
              "              style=\"display:none;\">\n",
              "        \n",
              "  <svg xmlns=\"http://www.w3.org/2000/svg\" height=\"24px\"viewBox=\"0 0 24 24\"\n",
              "       width=\"24px\">\n",
              "    <path d=\"M0 0h24v24H0V0z\" fill=\"none\"/>\n",
              "    <path d=\"M18.56 5.44l.94 2.06.94-2.06 2.06-.94-2.06-.94-.94-2.06-.94 2.06-2.06.94zm-11 1L8.5 8.5l.94-2.06 2.06-.94-2.06-.94L8.5 2.5l-.94 2.06-2.06.94zm10 10l.94 2.06.94-2.06 2.06-.94-2.06-.94-.94-2.06-.94 2.06-2.06.94z\"/><path d=\"M17.41 7.96l-1.37-1.37c-.4-.4-.92-.59-1.43-.59-.52 0-1.04.2-1.43.59L10.3 9.45l-7.72 7.72c-.78.78-.78 2.05 0 2.83L4 21.41c.39.39.9.59 1.41.59.51 0 1.02-.2 1.41-.59l7.78-7.78 2.81-2.81c.8-.78.8-2.07 0-2.86zM5.41 20L4 18.59l7.72-7.72 1.47 1.35L5.41 20z\"/>\n",
              "  </svg>\n",
              "      </button>\n",
              "      \n",
              "  <style>\n",
              "    .colab-df-container {\n",
              "      display:flex;\n",
              "      flex-wrap:wrap;\n",
              "      gap: 12px;\n",
              "    }\n",
              "\n",
              "    .colab-df-convert {\n",
              "      background-color: #E8F0FE;\n",
              "      border: none;\n",
              "      border-radius: 50%;\n",
              "      cursor: pointer;\n",
              "      display: none;\n",
              "      fill: #1967D2;\n",
              "      height: 32px;\n",
              "      padding: 0 0 0 0;\n",
              "      width: 32px;\n",
              "    }\n",
              "\n",
              "    .colab-df-convert:hover {\n",
              "      background-color: #E2EBFA;\n",
              "      box-shadow: 0px 1px 2px rgba(60, 64, 67, 0.3), 0px 1px 3px 1px rgba(60, 64, 67, 0.15);\n",
              "      fill: #174EA6;\n",
              "    }\n",
              "\n",
              "    [theme=dark] .colab-df-convert {\n",
              "      background-color: #3B4455;\n",
              "      fill: #D2E3FC;\n",
              "    }\n",
              "\n",
              "    [theme=dark] .colab-df-convert:hover {\n",
              "      background-color: #434B5C;\n",
              "      box-shadow: 0px 1px 3px 1px rgba(0, 0, 0, 0.15);\n",
              "      filter: drop-shadow(0px 1px 2px rgba(0, 0, 0, 0.3));\n",
              "      fill: #FFFFFF;\n",
              "    }\n",
              "  </style>\n",
              "\n",
              "      <script>\n",
              "        const buttonEl =\n",
              "          document.querySelector('#df-bb7c5729-92ee-4a74-b7e3-71c258fa7606 button.colab-df-convert');\n",
              "        buttonEl.style.display =\n",
              "          google.colab.kernel.accessAllowed ? 'block' : 'none';\n",
              "\n",
              "        async function convertToInteractive(key) {\n",
              "          const element = document.querySelector('#df-bb7c5729-92ee-4a74-b7e3-71c258fa7606');\n",
              "          const dataTable =\n",
              "            await google.colab.kernel.invokeFunction('convertToInteractive',\n",
              "                                                     [key], {});\n",
              "          if (!dataTable) return;\n",
              "\n",
              "          const docLinkHtml = 'Like what you see? Visit the ' +\n",
              "            '<a target=\"_blank\" href=https://colab.research.google.com/notebooks/data_table.ipynb>data table notebook</a>'\n",
              "            + ' to learn more about interactive tables.';\n",
              "          element.innerHTML = '';\n",
              "          dataTable['output_type'] = 'display_data';\n",
              "          await google.colab.output.renderOutput(dataTable, element);\n",
              "          const docLink = document.createElement('div');\n",
              "          docLink.innerHTML = docLinkHtml;\n",
              "          element.appendChild(docLink);\n",
              "        }\n",
              "      </script>\n",
              "    </div>\n",
              "  </div>\n",
              "  "
            ]
          },
          "metadata": {},
          "execution_count": 104
        }
      ]
    },
    {
      "cell_type": "code",
      "source": [
        "data.head()"
      ],
      "metadata": {
        "colab": {
          "base_uri": "https://localhost:8080/",
          "height": 206
        },
        "id": "ymS3TKHAXNzB",
        "outputId": "634daae0-1039-425e-a6ab-13c0d887b8fa"
      },
      "execution_count": null,
      "outputs": [
        {
          "output_type": "execute_result",
          "data": {
            "text/plain": [
              "   ID  Age  Experience  Income  ZIP Code  Family  CCAvg  Education  Mortgage  \\\n",
              "0   1   25           1      49     91107       4    1.6          1         0   \n",
              "1   2   45          19      34     90089       3    1.5          1         0   \n",
              "2   3   39          15      11     94720       1    1.0          1         0   \n",
              "3   4   35           9     100     94112       1    2.7          2         0   \n",
              "4   5   35           8      45     91330       4    1.0          2         0   \n",
              "\n",
              "   Securities Account  CD Account  Online  CreditCard  Personal Loan  \n",
              "0                   1           0       0           0              0  \n",
              "1                   1           0       0           0              0  \n",
              "2                   0           0       0           0              0  \n",
              "3                   0           0       0           0              0  \n",
              "4                   0           0       0           1              0  "
            ],
            "text/html": [
              "\n",
              "  <div id=\"df-28c2e635-b40b-4281-82af-19bbbe4416f6\">\n",
              "    <div class=\"colab-df-container\">\n",
              "      <div>\n",
              "<style scoped>\n",
              "    .dataframe tbody tr th:only-of-type {\n",
              "        vertical-align: middle;\n",
              "    }\n",
              "\n",
              "    .dataframe tbody tr th {\n",
              "        vertical-align: top;\n",
              "    }\n",
              "\n",
              "    .dataframe thead th {\n",
              "        text-align: right;\n",
              "    }\n",
              "</style>\n",
              "<table border=\"1\" class=\"dataframe\">\n",
              "  <thead>\n",
              "    <tr style=\"text-align: right;\">\n",
              "      <th></th>\n",
              "      <th>ID</th>\n",
              "      <th>Age</th>\n",
              "      <th>Experience</th>\n",
              "      <th>Income</th>\n",
              "      <th>ZIP Code</th>\n",
              "      <th>Family</th>\n",
              "      <th>CCAvg</th>\n",
              "      <th>Education</th>\n",
              "      <th>Mortgage</th>\n",
              "      <th>Securities Account</th>\n",
              "      <th>CD Account</th>\n",
              "      <th>Online</th>\n",
              "      <th>CreditCard</th>\n",
              "      <th>Personal Loan</th>\n",
              "    </tr>\n",
              "  </thead>\n",
              "  <tbody>\n",
              "    <tr>\n",
              "      <th>0</th>\n",
              "      <td>1</td>\n",
              "      <td>25</td>\n",
              "      <td>1</td>\n",
              "      <td>49</td>\n",
              "      <td>91107</td>\n",
              "      <td>4</td>\n",
              "      <td>1.6</td>\n",
              "      <td>1</td>\n",
              "      <td>0</td>\n",
              "      <td>1</td>\n",
              "      <td>0</td>\n",
              "      <td>0</td>\n",
              "      <td>0</td>\n",
              "      <td>0</td>\n",
              "    </tr>\n",
              "    <tr>\n",
              "      <th>1</th>\n",
              "      <td>2</td>\n",
              "      <td>45</td>\n",
              "      <td>19</td>\n",
              "      <td>34</td>\n",
              "      <td>90089</td>\n",
              "      <td>3</td>\n",
              "      <td>1.5</td>\n",
              "      <td>1</td>\n",
              "      <td>0</td>\n",
              "      <td>1</td>\n",
              "      <td>0</td>\n",
              "      <td>0</td>\n",
              "      <td>0</td>\n",
              "      <td>0</td>\n",
              "    </tr>\n",
              "    <tr>\n",
              "      <th>2</th>\n",
              "      <td>3</td>\n",
              "      <td>39</td>\n",
              "      <td>15</td>\n",
              "      <td>11</td>\n",
              "      <td>94720</td>\n",
              "      <td>1</td>\n",
              "      <td>1.0</td>\n",
              "      <td>1</td>\n",
              "      <td>0</td>\n",
              "      <td>0</td>\n",
              "      <td>0</td>\n",
              "      <td>0</td>\n",
              "      <td>0</td>\n",
              "      <td>0</td>\n",
              "    </tr>\n",
              "    <tr>\n",
              "      <th>3</th>\n",
              "      <td>4</td>\n",
              "      <td>35</td>\n",
              "      <td>9</td>\n",
              "      <td>100</td>\n",
              "      <td>94112</td>\n",
              "      <td>1</td>\n",
              "      <td>2.7</td>\n",
              "      <td>2</td>\n",
              "      <td>0</td>\n",
              "      <td>0</td>\n",
              "      <td>0</td>\n",
              "      <td>0</td>\n",
              "      <td>0</td>\n",
              "      <td>0</td>\n",
              "    </tr>\n",
              "    <tr>\n",
              "      <th>4</th>\n",
              "      <td>5</td>\n",
              "      <td>35</td>\n",
              "      <td>8</td>\n",
              "      <td>45</td>\n",
              "      <td>91330</td>\n",
              "      <td>4</td>\n",
              "      <td>1.0</td>\n",
              "      <td>2</td>\n",
              "      <td>0</td>\n",
              "      <td>0</td>\n",
              "      <td>0</td>\n",
              "      <td>0</td>\n",
              "      <td>1</td>\n",
              "      <td>0</td>\n",
              "    </tr>\n",
              "  </tbody>\n",
              "</table>\n",
              "</div>\n",
              "      <button class=\"colab-df-convert\" onclick=\"convertToInteractive('df-28c2e635-b40b-4281-82af-19bbbe4416f6')\"\n",
              "              title=\"Convert this dataframe to an interactive table.\"\n",
              "              style=\"display:none;\">\n",
              "        \n",
              "  <svg xmlns=\"http://www.w3.org/2000/svg\" height=\"24px\"viewBox=\"0 0 24 24\"\n",
              "       width=\"24px\">\n",
              "    <path d=\"M0 0h24v24H0V0z\" fill=\"none\"/>\n",
              "    <path d=\"M18.56 5.44l.94 2.06.94-2.06 2.06-.94-2.06-.94-.94-2.06-.94 2.06-2.06.94zm-11 1L8.5 8.5l.94-2.06 2.06-.94-2.06-.94L8.5 2.5l-.94 2.06-2.06.94zm10 10l.94 2.06.94-2.06 2.06-.94-2.06-.94-.94-2.06-.94 2.06-2.06.94z\"/><path d=\"M17.41 7.96l-1.37-1.37c-.4-.4-.92-.59-1.43-.59-.52 0-1.04.2-1.43.59L10.3 9.45l-7.72 7.72c-.78.78-.78 2.05 0 2.83L4 21.41c.39.39.9.59 1.41.59.51 0 1.02-.2 1.41-.59l7.78-7.78 2.81-2.81c.8-.78.8-2.07 0-2.86zM5.41 20L4 18.59l7.72-7.72 1.47 1.35L5.41 20z\"/>\n",
              "  </svg>\n",
              "      </button>\n",
              "      \n",
              "  <style>\n",
              "    .colab-df-container {\n",
              "      display:flex;\n",
              "      flex-wrap:wrap;\n",
              "      gap: 12px;\n",
              "    }\n",
              "\n",
              "    .colab-df-convert {\n",
              "      background-color: #E8F0FE;\n",
              "      border: none;\n",
              "      border-radius: 50%;\n",
              "      cursor: pointer;\n",
              "      display: none;\n",
              "      fill: #1967D2;\n",
              "      height: 32px;\n",
              "      padding: 0 0 0 0;\n",
              "      width: 32px;\n",
              "    }\n",
              "\n",
              "    .colab-df-convert:hover {\n",
              "      background-color: #E2EBFA;\n",
              "      box-shadow: 0px 1px 2px rgba(60, 64, 67, 0.3), 0px 1px 3px 1px rgba(60, 64, 67, 0.15);\n",
              "      fill: #174EA6;\n",
              "    }\n",
              "\n",
              "    [theme=dark] .colab-df-convert {\n",
              "      background-color: #3B4455;\n",
              "      fill: #D2E3FC;\n",
              "    }\n",
              "\n",
              "    [theme=dark] .colab-df-convert:hover {\n",
              "      background-color: #434B5C;\n",
              "      box-shadow: 0px 1px 3px 1px rgba(0, 0, 0, 0.15);\n",
              "      filter: drop-shadow(0px 1px 2px rgba(0, 0, 0, 0.3));\n",
              "      fill: #FFFFFF;\n",
              "    }\n",
              "  </style>\n",
              "\n",
              "      <script>\n",
              "        const buttonEl =\n",
              "          document.querySelector('#df-28c2e635-b40b-4281-82af-19bbbe4416f6 button.colab-df-convert');\n",
              "        buttonEl.style.display =\n",
              "          google.colab.kernel.accessAllowed ? 'block' : 'none';\n",
              "\n",
              "        async function convertToInteractive(key) {\n",
              "          const element = document.querySelector('#df-28c2e635-b40b-4281-82af-19bbbe4416f6');\n",
              "          const dataTable =\n",
              "            await google.colab.kernel.invokeFunction('convertToInteractive',\n",
              "                                                     [key], {});\n",
              "          if (!dataTable) return;\n",
              "\n",
              "          const docLinkHtml = 'Like what you see? Visit the ' +\n",
              "            '<a target=\"_blank\" href=https://colab.research.google.com/notebooks/data_table.ipynb>data table notebook</a>'\n",
              "            + ' to learn more about interactive tables.';\n",
              "          element.innerHTML = '';\n",
              "          dataTable['output_type'] = 'display_data';\n",
              "          await google.colab.output.renderOutput(dataTable, element);\n",
              "          const docLink = document.createElement('div');\n",
              "          docLink.innerHTML = docLinkHtml;\n",
              "          element.appendChild(docLink);\n",
              "        }\n",
              "      </script>\n",
              "    </div>\n",
              "  </div>\n",
              "  "
            ]
          },
          "metadata": {},
          "execution_count": 105
        }
      ]
    },
    {
      "cell_type": "code",
      "source": [
        "sns.countplot(data['Experience'])\n",
        "plt.figure(figsize=(12,10))\n",
        "plt.show()"
      ],
      "metadata": {
        "colab": {
          "base_uri": "https://localhost:8080/",
          "height": 353
        },
        "id": "B_MkimIMYKmM",
        "outputId": "63043fa0-60d0-4228-a300-7c0db2bf732d"
      },
      "execution_count": null,
      "outputs": [
        {
          "output_type": "stream",
          "name": "stderr",
          "text": [
            "/usr/local/lib/python3.7/dist-packages/seaborn/_decorators.py:43: FutureWarning: Pass the following variable as a keyword arg: x. From version 0.12, the only valid positional argument will be `data`, and passing other arguments without an explicit keyword will result in an error or misinterpretation.\n",
            "  FutureWarning\n"
          ]
        },
        {
          "output_type": "display_data",
          "data": {
            "text/plain": [
              "<Figure size 432x288 with 1 Axes>"
            ],
            "image/png": "[encoded data removed]"
          },
          "metadata": {
            "needs_background": "light"
          }
        },
        {
          "output_type": "display_data",
          "data": {
            "text/plain": [
              "<Figure size 864x720 with 0 Axes>"
            ]
          },
          "metadata": {}
        }
      ]
    },
    {
      "cell_type": "code",
      "source": [
        "sns.countplot(data['CreditCard'])\n",
        "#plt.figure(figsize=(12,10))\n",
        "labels=[\"having\",\"not having\"]\n",
        "plt.xticks(range(2),labels)\n",
        "plt.show()"
      ],
      "metadata": {
        "colab": {
          "base_uri": "https://localhost:8080/",
          "height": 334
        },
        "id": "Izim4xmbYaB1",
        "outputId": "5437f1ae-1474-409b-cc49-15bc518c664e"
      },
      "execution_count": null,
      "outputs": [
        {
          "output_type": "stream",
          "name": "stderr",
          "text": [
            "/usr/local/lib/python3.7/dist-packages/seaborn/_decorators.py:43: FutureWarning: Pass the following variable as a keyword arg: x. From version 0.12, the only valid positional argument will be `data`, and passing other arguments without an explicit keyword will result in an error or misinterpretation.\n",
            "  FutureWarning\n"
          ]
        },
        {
          "output_type": "display_data",
          "data": {
            "text/plain": [
              "<Figure size 432x288 with 1 Axes>"
            ],
            "image/png": "[encoded data removed]"
          },
          "metadata": {
            "needs_background": "light"
          }
        }
      ]
    },
    {
      "cell_type": "code",
      "source": [
        ""
      ],
      "metadata": {
        "id": "vXcEjxxCY1cX"
      },
      "execution_count": null,
      "outputs": []
    },
    {
      "cell_type": "markdown",
      "source": [
        "zip code is not required column here for prediction\n",
        "so i removed the zip code column from dataset"
      ],
      "metadata": {
        "id": "YfVKOP44ZPYL"
      }
    },
    {
      "cell_type": "code",
      "source": [
        "data.drop(columns=\"ZIP Code\",inplace=True)"
      ],
      "metadata": {
        "id": "U4PA_c59ZgV5"
      },
      "execution_count": null,
      "outputs": []
    },
    {
      "cell_type": "code",
      "source": [
        "data.info()"
      ],
      "metadata": {
        "colab": {
          "base_uri": "https://localhost:8080/"
        },
        "id": "1T17WRf3Z9NJ",
        "outputId": "13cd4b6a-e090-43f0-e6e8-40fbfc9d410a"
      },
      "execution_count": null,
      "outputs": [
        {
          "output_type": "stream",
          "name": "stdout",
          "text": [
            "<class 'pandas.core.frame.DataFrame'>\n",
            "RangeIndex: 5000 entries, 0 to 4999\n",
            "Data columns (total 13 columns):\n",
            " #   Column              Non-Null Count  Dtype  \n",
            "---  ------              --------------  -----  \n",
            " 0   ID                  5000 non-null   int64  \n",
            " 1   Age                 5000 non-null   int64  \n",
            " 2   Experience          5000 non-null   int64  \n",
            " 3   Income              5000 non-null   int64  \n",
            " 4   Family              5000 non-null   int64  \n",
            " 5   CCAvg               5000 non-null   float64\n",
            " 6   Education           5000 non-null   int64  \n",
            " 7   Mortgage            5000 non-null   int64  \n",
            " 8   Securities Account  5000 non-null   int64  \n",
            " 9   CD Account          5000 non-null   int64  \n",
            " 10  Online              5000 non-null   int64  \n",
            " 11  CreditCard          5000 non-null   int64  \n",
            " 12  Personal Loan       5000 non-null   int64  \n",
            "dtypes: float64(1), int64(12)\n",
            "memory usage: 507.9 KB\n"
          ]
        }
      ]
    },
    {
      "cell_type": "code",
      "source": [
        "sns.countplot(data['CD Account'])\n",
        "plt.figure(figsize=(12,10))\n",
        "plt.show()"
      ],
      "metadata": {
        "colab": {
          "base_uri": "https://localhost:8080/",
          "height": 351
        },
        "id": "hydmHbaxaB-p",
        "outputId": "394123e2-b561-4edc-ef21-bb57485b338f"
      },
      "execution_count": null,
      "outputs": [
        {
          "output_type": "stream",
          "name": "stderr",
          "text": [
            "/usr/local/lib/python3.7/dist-packages/seaborn/_decorators.py:43: FutureWarning: Pass the following variable as a keyword arg: x. From version 0.12, the only valid positional argument will be `data`, and passing other arguments without an explicit keyword will result in an error or misinterpretation.\n",
            "  FutureWarning\n"
          ]
        },
        {
          "output_type": "display_data",
          "data": {
            "text/plain": [
              "<Figure size 432x288 with 1 Axes>"
            ],
            "image/png": "[encoded data removed]"
          },
          "metadata": {
            "needs_background": "light"
          }
        },
        {
          "output_type": "display_data",
          "data": {
            "text/plain": [
              "<Figure size 864x720 with 0 Axes>"
            ]
          },
          "metadata": {}
        }
      ]
    },
    {
      "cell_type": "code",
      "source": [
        "sns.countplot(data['Online'])\n",
        "plt.figure(figsize=(12,10))\n",
        "plt.show()"
      ],
      "metadata": {
        "colab": {
          "base_uri": "https://localhost:8080/",
          "height": 351
        },
        "id": "q1i5d56YaNvZ",
        "outputId": "a6f0bd45-ffc2-4315-9cc0-c24dec9e3a5c"
      },
      "execution_count": null,
      "outputs": [
        {
          "output_type": "stream",
          "name": "stderr",
          "text": [
            "/usr/local/lib/python3.7/dist-packages/seaborn/_decorators.py:43: FutureWarning: Pass the following variable as a keyword arg: x. From version 0.12, the only valid positional argument will be `data`, and passing other arguments without an explicit keyword will result in an error or misinterpretation.\n",
            "  FutureWarning\n"
          ]
        },
        {
          "output_type": "display_data",
          "data": {
            "text/plain": [
              "<Figure size 432x288 with 1 Axes>"
            ],
            "image/png": "[encoded data removed]"
          },
          "metadata": {
            "needs_background": "light"
          }
        },
        {
          "output_type": "display_data",
          "data": {
            "text/plain": [
              "<Figure size 864x720 with 0 Axes>"
            ]
          },
          "metadata": {}
        }
      ]
    },
    {
      "cell_type": "code",
      "source": [
        "sns.countplot(data['Family'])\n",
        "plt.figure(figsize=(12,10))\n",
        "plt.show()"
      ],
      "metadata": {
        "colab": {
          "base_uri": "https://localhost:8080/",
          "height": 351
        },
        "id": "bSFiMo1waarh",
        "outputId": "5da81c1a-68f3-47b5-fe23-88d2154642ab"
      },
      "execution_count": null,
      "outputs": [
        {
          "output_type": "stream",
          "name": "stderr",
          "text": [
            "/usr/local/lib/python3.7/dist-packages/seaborn/_decorators.py:43: FutureWarning: Pass the following variable as a keyword arg: x. From version 0.12, the only valid positional argument will be `data`, and passing other arguments without an explicit keyword will result in an error or misinterpretation.\n",
            "  FutureWarning\n"
          ]
        },
        {
          "output_type": "display_data",
          "data": {
            "text/plain": [
              "<Figure size 432x288 with 1 Axes>"
            ],
            "image/png": "[encoded data removed]"
          },
          "metadata": {
            "needs_background": "light"
          }
        },
        {
          "output_type": "display_data",
          "data": {
            "text/plain": [
              "<Figure size 864x720 with 0 Axes>"
            ]
          },
          "metadata": {}
        }
      ]
    },
    {
      "cell_type": "code",
      "source": [
        "sns.countplot(data['Education'])\n",
        "#plt.figure(figsize=(12,10))\n",
        "labels=[\"undergraduate\",\"graduate\",\"advanced\"]\n",
        "plt.xticks(range(3),labels)\n",
        "plt.legend(labels)\n",
        "plt.show()"
      ],
      "metadata": {
        "colab": {
          "base_uri": "https://localhost:8080/",
          "height": 334
        },
        "id": "bTGwHtR0ahRR",
        "outputId": "35cbcb84-41fe-4249-deae-8f1954bd78ea"
      },
      "execution_count": null,
      "outputs": [
        {
          "output_type": "stream",
          "name": "stderr",
          "text": [
            "/usr/local/lib/python3.7/dist-packages/seaborn/_decorators.py:43: FutureWarning: Pass the following variable as a keyword arg: x. From version 0.12, the only valid positional argument will be `data`, and passing other arguments without an explicit keyword will result in an error or misinterpretation.\n",
            "  FutureWarning\n"
          ]
        },
        {
          "output_type": "display_data",
          "data": {
            "text/plain": [
              "<Figure size 432x288 with 1 Axes>"
            ],
            "image/png": "[encoded data removed]"
          },
          "metadata": {
            "needs_background": "light"
          }
        }
      ]
    },
    {
      "cell_type": "code",
      "source": [
        "from pandas.core.algorithms import value_counts\n",
        "df[\"Education\"].value_counts()"
      ],
      "metadata": {
        "colab": {
          "base_uri": "https://localhost:8080/"
        },
        "id": "o0KpelBDaty5",
        "outputId": "44085785-5413-431d-ce53-36fb9e70dc04"
      },
      "execution_count": null,
      "outputs": [
        {
          "output_type": "execute_result",
          "data": {
            "text/plain": [
              "1    2096\n",
              "3    1501\n",
              "2    1403\n",
              "Name: Education, dtype: int64"
            ]
          },
          "metadata": {},
          "execution_count": 114
        }
      ]
    },
    {
      "cell_type": "code",
      "source": [
        "outliers.sum()"
      ],
      "metadata": {
        "colab": {
          "base_uri": "https://localhost:8080/"
        },
        "id": "V7-Ku13Ra2I5",
        "outputId": "77fa3c5a-99ba-489b-d92b-6413e2dd9e63"
      },
      "execution_count": null,
      "outputs": [
        {
          "output_type": "execute_result",
          "data": {
            "text/plain": [
              "ID                         0.0\n",
              "Age                        0.0\n",
              "Experience                 0.0\n",
              "Income                 18688.0\n",
              "ZIP Code                9307.0\n",
              "Family                     0.0\n",
              "CCAvg                   2217.8\n",
              "Education                  0.0\n",
              "Mortgage              103498.0\n",
              "Personal Loan            480.0\n",
              "Securities Account       522.0\n",
              "CD Account               302.0\n",
              "Online                     0.0\n",
              "CreditCard                 0.0\n",
              "dtype: float64"
            ]
          },
          "metadata": {},
          "execution_count": 115
        }
      ]
    },
    {
      "cell_type": "code",
      "source": [
        "#handling outliers using iqr and capping method\n",
        "sns.displot(data['Income'])"
      ],
      "metadata": {
        "colab": {
          "base_uri": "https://localhost:8080/",
          "height": 386
        },
        "id": "WKyWNZYy93Jt",
        "outputId": "e5a85911-d561-4741-e1f8-8a4b7618b3eb"
      },
      "execution_count": null,
      "outputs": [
        {
          "output_type": "execute_result",
          "data": {
            "text/plain": [
              "<seaborn.axisgrid.FacetGrid at 0x7f65860b4b10>"
            ]
          },
          "metadata": {},
          "execution_count": 116
        },
        {
          "output_type": "display_data",
          "data": {
            "text/plain": [
              "<Figure size 360x360 with 1 Axes>"
            ],
            "image/png": "[encoded data removed]"
          },
          "metadata": {
            "needs_background": "light"
          }
        }
      ]
    },
    {
      "cell_type": "code",
      "source": [
        "def find_outliers_IQR(data):\n",
        "\n",
        "   q1=df.quantile(0.25)\n",
        "\n",
        "   q3=df.quantile(0.75)\n",
        "\n",
        "   IQR=q3-q1\n",
        "\n",
        "   outliers = data[((data<(q1-1.5*IQR)) | (data>(q3+1.5*IQR)))]\n",
        "\n",
        "   return outliers"
      ],
      "metadata": {
        "id": "yMLQO16A_DgR"
      },
      "execution_count": null,
      "outputs": []
    },
    {
      "cell_type": "code",
      "source": [
        "#outliers = find_outliers_IQR(data)"
      ],
      "metadata": {
        "id": "8w30ynzC_KrG"
      },
      "execution_count": null,
      "outputs": []
    },
    {
      "cell_type": "code",
      "source": [
        "outliers.count()"
      ],
      "metadata": {
        "colab": {
          "base_uri": "https://localhost:8080/"
        },
        "id": "vcagathM_NkO",
        "outputId": "aedbf767-0390-43c7-cff6-81fb7f060371"
      },
      "execution_count": null,
      "outputs": [
        {
          "output_type": "execute_result",
          "data": {
            "text/plain": [
              "ID                      0\n",
              "Age                     0\n",
              "Experience              0\n",
              "Income                 96\n",
              "ZIP Code                1\n",
              "Family                  0\n",
              "CCAvg                 324\n",
              "Education               0\n",
              "Mortgage              291\n",
              "Personal Loan         480\n",
              "Securities Account    522\n",
              "CD Account            302\n",
              "Online                  0\n",
              "CreditCard              0\n",
              "dtype: int64"
            ]
          },
          "metadata": {},
          "execution_count": 119
        }
      ]
    },
    {
      "cell_type": "code",
      "source": [
        "data.head()"
      ],
      "metadata": {
        "id": "JONTieNA_Y7-",
        "colab": {
          "base_uri": "https://localhost:8080/",
          "height": 206
        },
        "outputId": "4b7e2dc5-62e5-403a-d9d1-b62aa7436dd6"
      },
      "execution_count": null,
      "outputs": [
        {
          "output_type": "execute_result",
          "data": {
            "text/plain": [
              "   ID  Age  Experience  Income  Family  CCAvg  Education  Mortgage  \\\n",
              "0   1   25           1      49       4    1.6          1         0   \n",
              "1   2   45          19      34       3    1.5          1         0   \n",
              "2   3   39          15      11       1    1.0          1         0   \n",
              "3   4   35           9     100       1    2.7          2         0   \n",
              "4   5   35           8      45       4    1.0          2         0   \n",
              "\n",
              "   Securities Account  CD Account  Online  CreditCard  Personal Loan  \n",
              "0                   1           0       0           0              0  \n",
              "1                   1           0       0           0              0  \n",
              "2                   0           0       0           0              0  \n",
              "3                   0           0       0           0              0  \n",
              "4                   0           0       0           1              0  "
            ],
            "text/html": [
              "\n",
              "  <div id=\"df-43fe8b53-a3d5-4e85-8802-f03242dc9835\">\n",
              "    <div class=\"colab-df-container\">\n",
              "      <div>\n",
              "<style scoped>\n",
              "    .dataframe tbody tr th:only-of-type {\n",
              "        vertical-align: middle;\n",
              "    }\n",
              "\n",
              "    .dataframe tbody tr th {\n",
              "        vertical-align: top;\n",
              "    }\n",
              "\n",
              "    .dataframe thead th {\n",
              "        text-align: right;\n",
              "    }\n",
              "</style>\n",
              "<table border=\"1\" class=\"dataframe\">\n",
              "  <thead>\n",
              "    <tr style=\"text-align: right;\">\n",
              "      <th></th>\n",
              "      <th>ID</th>\n",
              "      <th>Age</th>\n",
              "      <th>Experience</th>\n",
              "      <th>Income</th>\n",
              "      <th>Family</th>\n",
              "      <th>CCAvg</th>\n",
              "      <th>Education</th>\n",
              "      <th>Mortgage</th>\n",
              "      <th>Securities Account</th>\n",
              "      <th>CD Account</th>\n",
              "      <th>Online</th>\n",
              "      <th>CreditCard</th>\n",
              "      <th>Personal Loan</th>\n",
              "    </tr>\n",
              "  </thead>\n",
              "  <tbody>\n",
              "    <tr>\n",
              "      <th>0</th>\n",
              "      <td>1</td>\n",
              "      <td>25</td>\n",
              "      <td>1</td>\n",
              "      <td>49</td>\n",
              "      <td>4</td>\n",
              "      <td>1.6</td>\n",
              "      <td>1</td>\n",
              "      <td>0</td>\n",
              "      <td>1</td>\n",
              "      <td>0</td>\n",
              "      <td>0</td>\n",
              "      <td>0</td>\n",
              "      <td>0</td>\n",
              "    </tr>\n",
              "    <tr>\n",
              "      <th>1</th>\n",
              "      <td>2</td>\n",
              "      <td>45</td>\n",
              "      <td>19</td>\n",
              "      <td>34</td>\n",
              "      <td>3</td>\n",
              "      <td>1.5</td>\n",
              "      <td>1</td>\n",
              "      <td>0</td>\n",
              "      <td>1</td>\n",
              "      <td>0</td>\n",
              "      <td>0</td>\n",
              "      <td>0</td>\n",
              "      <td>0</td>\n",
              "    </tr>\n",
              "    <tr>\n",
              "      <th>2</th>\n",
              "      <td>3</td>\n",
              "      <td>39</td>\n",
              "      <td>15</td>\n",
              "      <td>11</td>\n",
              "      <td>1</td>\n",
              "      <td>1.0</td>\n",
              "      <td>1</td>\n",
              "      <td>0</td>\n",
              "      <td>0</td>\n",
              "      <td>0</td>\n",
              "      <td>0</td>\n",
              "      <td>0</td>\n",
              "      <td>0</td>\n",
              "    </tr>\n",
              "    <tr>\n",
              "      <th>3</th>\n",
              "      <td>4</td>\n",
              "      <td>35</td>\n",
              "      <td>9</td>\n",
              "      <td>100</td>\n",
              "      <td>1</td>\n",
              "      <td>2.7</td>\n",
              "      <td>2</td>\n",
              "      <td>0</td>\n",
              "      <td>0</td>\n",
              "      <td>0</td>\n",
              "      <td>0</td>\n",
              "      <td>0</td>\n",
              "      <td>0</td>\n",
              "    </tr>\n",
              "    <tr>\n",
              "      <th>4</th>\n",
              "      <td>5</td>\n",
              "      <td>35</td>\n",
              "      <td>8</td>\n",
              "      <td>45</td>\n",
              "      <td>4</td>\n",
              "      <td>1.0</td>\n",
              "      <td>2</td>\n",
              "      <td>0</td>\n",
              "      <td>0</td>\n",
              "      <td>0</td>\n",
              "      <td>0</td>\n",
              "      <td>1</td>\n",
              "      <td>0</td>\n",
              "    </tr>\n",
              "  </tbody>\n",
              "</table>\n",
              "</div>\n",
              "      <button class=\"colab-df-convert\" onclick=\"convertToInteractive('df-43fe8b53-a3d5-4e85-8802-f03242dc9835')\"\n",
              "              title=\"Convert this dataframe to an interactive table.\"\n",
              "              style=\"display:none;\">\n",
              "        \n",
              "  <svg xmlns=\"http://www.w3.org/2000/svg\" height=\"24px\"viewBox=\"0 0 24 24\"\n",
              "       width=\"24px\">\n",
              "    <path d=\"M0 0h24v24H0V0z\" fill=\"none\"/>\n",
              "    <path d=\"M18.56 5.44l.94 2.06.94-2.06 2.06-.94-2.06-.94-.94-2.06-.94 2.06-2.06.94zm-11 1L8.5 8.5l.94-2.06 2.06-.94-2.06-.94L8.5 2.5l-.94 2.06-2.06.94zm10 10l.94 2.06.94-2.06 2.06-.94-2.06-.94-.94-2.06-.94 2.06-2.06.94z\"/><path d=\"M17.41 7.96l-1.37-1.37c-.4-.4-.92-.59-1.43-.59-.52 0-1.04.2-1.43.59L10.3 9.45l-7.72 7.72c-.78.78-.78 2.05 0 2.83L4 21.41c.39.39.9.59 1.41.59.51 0 1.02-.2 1.41-.59l7.78-7.78 2.81-2.81c.8-.78.8-2.07 0-2.86zM5.41 20L4 18.59l7.72-7.72 1.47 1.35L5.41 20z\"/>\n",
              "  </svg>\n",
              "      </button>\n",
              "      \n",
              "  <style>\n",
              "    .colab-df-container {\n",
              "      display:flex;\n",
              "      flex-wrap:wrap;\n",
              "      gap: 12px;\n",
              "    }\n",
              "\n",
              "    .colab-df-convert {\n",
              "      background-color: #E8F0FE;\n",
              "      border: none;\n",
              "      border-radius: 50%;\n",
              "      cursor: pointer;\n",
              "      display: none;\n",
              "      fill: #1967D2;\n",
              "      height: 32px;\n",
              "      padding: 0 0 0 0;\n",
              "      width: 32px;\n",
              "    }\n",
              "\n",
              "    .colab-df-convert:hover {\n",
              "      background-color: #E2EBFA;\n",
              "      box-shadow: 0px 1px 2px rgba(60, 64, 67, 0.3), 0px 1px 3px 1px rgba(60, 64, 67, 0.15);\n",
              "      fill: #174EA6;\n",
              "    }\n",
              "\n",
              "    [theme=dark] .colab-df-convert {\n",
              "      background-color: #3B4455;\n",
              "      fill: #D2E3FC;\n",
              "    }\n",
              "\n",
              "    [theme=dark] .colab-df-convert:hover {\n",
              "      background-color: #434B5C;\n",
              "      box-shadow: 0px 1px 3px 1px rgba(0, 0, 0, 0.15);\n",
              "      filter: drop-shadow(0px 1px 2px rgba(0, 0, 0, 0.3));\n",
              "      fill: #FFFFFF;\n",
              "    }\n",
              "  </style>\n",
              "\n",
              "      <script>\n",
              "        const buttonEl =\n",
              "          document.querySelector('#df-43fe8b53-a3d5-4e85-8802-f03242dc9835 button.colab-df-convert');\n",
              "        buttonEl.style.display =\n",
              "          google.colab.kernel.accessAllowed ? 'block' : 'none';\n",
              "\n",
              "        async function convertToInteractive(key) {\n",
              "          const element = document.querySelector('#df-43fe8b53-a3d5-4e85-8802-f03242dc9835');\n",
              "          const dataTable =\n",
              "            await google.colab.kernel.invokeFunction('convertToInteractive',\n",
              "                                                     [key], {});\n",
              "          if (!dataTable) return;\n",
              "\n",
              "          const docLinkHtml = 'Like what you see? Visit the ' +\n",
              "            '<a target=\"_blank\" href=https://colab.research.google.com/notebooks/data_table.ipynb>data table notebook</a>'\n",
              "            + ' to learn more about interactive tables.';\n",
              "          element.innerHTML = '';\n",
              "          dataTable['output_type'] = 'display_data';\n",
              "          await google.colab.output.renderOutput(dataTable, element);\n",
              "          const docLink = document.createElement('div');\n",
              "          docLink.innerHTML = docLinkHtml;\n",
              "          element.appendChild(docLink);\n",
              "        }\n",
              "      </script>\n",
              "    </div>\n",
              "  </div>\n",
              "  "
            ]
          },
          "metadata": {},
          "execution_count": 120
        }
      ]
    },
    {
      "cell_type": "code",
      "source": [
        "np.cov(data)"
      ],
      "metadata": {
        "colab": {
          "base_uri": "https://localhost:8080/"
        },
        "id": "5BAHtli2Gnrt",
        "outputId": "4221e7c4-e1fb-4ca7-cc57-4b645d1c87a7"
      },
      "execution_count": null,
      "outputs": [
        {
          "output_type": "execute_result",
          "data": {
            "text/plain": [
              "array([[ 2.09245641e+02,  1.78626923e+02,  9.01679487e+01, ...,\n",
              "        -2.09882205e+03, -2.00831282e+03, -1.92931949e+03],\n",
              "       [ 1.78626923e+02,  2.23897436e+02,  1.53653846e+02, ...,\n",
              "        -2.30194615e+03, -2.24228846e+03, -2.31584679e+03],\n",
              "       [ 9.01679487e+01,  1.53653846e+02,  1.24269231e+02, ...,\n",
              "        -8.09047436e+02, -7.91858974e+02, -9.08592308e+02],\n",
              "       ...,\n",
              "       [-2.09882205e+03, -2.30194615e+03, -8.09047436e+02, ...,\n",
              "         1.91352155e+06,  1.91300874e+06,  1.91442133e+06],\n",
              "       [-2.00831282e+03, -2.24228846e+03, -7.91858974e+02, ...,\n",
              "         1.91300874e+06,  1.91254292e+06,  1.91402465e+06],\n",
              "       [-1.92931949e+03, -2.31584679e+03, -9.08592308e+02, ...,\n",
              "         1.91442133e+06,  1.91402465e+06,  1.91581594e+06]])"
            ]
          },
          "metadata": {},
          "execution_count": 121
        }
      ]
    },
    {
      "cell_type": "code",
      "source": [
        "data.loc[:,['Mortgage']]"
      ],
      "metadata": {
        "colab": {
          "base_uri": "https://localhost:8080/",
          "height": 424
        },
        "id": "mWU-ciXOJtDs",
        "outputId": "1e256bcb-6177-4005-e3b1-486dba87cc34"
      },
      "execution_count": null,
      "outputs": [
        {
          "output_type": "execute_result",
          "data": {
            "text/plain": [
              "      Mortgage\n",
              "0            0\n",
              "1            0\n",
              "2            0\n",
              "3            0\n",
              "4            0\n",
              "...        ...\n",
              "4995         0\n",
              "4996        85\n",
              "4997         0\n",
              "4998         0\n",
              "4999         0\n",
              "\n",
              "[5000 rows x 1 columns]"
            ],
            "text/html": [
              "\n",
              "  <div id=\"df-c078b676-9b01-410d-9af8-54b086184d03\">\n",
              "    <div class=\"colab-df-container\">\n",
              "      <div>\n",
              "<style scoped>\n",
              "    .dataframe tbody tr th:only-of-type {\n",
              "        vertical-align: middle;\n",
              "    }\n",
              "\n",
              "    .dataframe tbody tr th {\n",
              "        vertical-align: top;\n",
              "    }\n",
              "\n",
              "    .dataframe thead th {\n",
              "        text-align: right;\n",
              "    }\n",
              "</style>\n",
              "<table border=\"1\" class=\"dataframe\">\n",
              "  <thead>\n",
              "    <tr style=\"text-align: right;\">\n",
              "      <th></th>\n",
              "      <th>Mortgage</th>\n",
              "    </tr>\n",
              "  </thead>\n",
              "  <tbody>\n",
              "    <tr>\n",
              "      <th>0</th>\n",
              "      <td>0</td>\n",
              "    </tr>\n",
              "    <tr>\n",
              "      <th>1</th>\n",
              "      <td>0</td>\n",
              "    </tr>\n",
              "    <tr>\n",
              "      <th>2</th>\n",
              "      <td>0</td>\n",
              "    </tr>\n",
              "    <tr>\n",
              "      <th>3</th>\n",
              "      <td>0</td>\n",
              "    </tr>\n",
              "    <tr>\n",
              "      <th>4</th>\n",
              "      <td>0</td>\n",
              "    </tr>\n",
              "    <tr>\n",
              "      <th>...</th>\n",
              "      <td>...</td>\n",
              "    </tr>\n",
              "    <tr>\n",
              "      <th>4995</th>\n",
              "      <td>0</td>\n",
              "    </tr>\n",
              "    <tr>\n",
              "      <th>4996</th>\n",
              "      <td>85</td>\n",
              "    </tr>\n",
              "    <tr>\n",
              "      <th>4997</th>\n",
              "      <td>0</td>\n",
              "    </tr>\n",
              "    <tr>\n",
              "      <th>4998</th>\n",
              "      <td>0</td>\n",
              "    </tr>\n",
              "    <tr>\n",
              "      <th>4999</th>\n",
              "      <td>0</td>\n",
              "    </tr>\n",
              "  </tbody>\n",
              "</table>\n",
              "<p>5000 rows × 1 columns</p>\n",
              "</div>\n",
              "      <button class=\"colab-df-convert\" onclick=\"convertToInteractive('df-c078b676-9b01-410d-9af8-54b086184d03')\"\n",
              "              title=\"Convert this dataframe to an interactive table.\"\n",
              "              style=\"display:none;\">\n",
              "        \n",
              "  <svg xmlns=\"http://www.w3.org/2000/svg\" height=\"24px\"viewBox=\"0 0 24 24\"\n",
              "       width=\"24px\">\n",
              "    <path d=\"M0 0h24v24H0V0z\" fill=\"none\"/>\n",
              "    <path d=\"M18.56 5.44l.94 2.06.94-2.06 2.06-.94-2.06-.94-.94-2.06-.94 2.06-2.06.94zm-11 1L8.5 8.5l.94-2.06 2.06-.94-2.06-.94L8.5 2.5l-.94 2.06-2.06.94zm10 10l.94 2.06.94-2.06 2.06-.94-2.06-.94-.94-2.06-.94 2.06-2.06.94z\"/><path d=\"M17.41 7.96l-1.37-1.37c-.4-.4-.92-.59-1.43-.59-.52 0-1.04.2-1.43.59L10.3 9.45l-7.72 7.72c-.78.78-.78 2.05 0 2.83L4 21.41c.39.39.9.59 1.41.59.51 0 1.02-.2 1.41-.59l7.78-7.78 2.81-2.81c.8-.78.8-2.07 0-2.86zM5.41 20L4 18.59l7.72-7.72 1.47 1.35L5.41 20z\"/>\n",
              "  </svg>\n",
              "      </button>\n",
              "      \n",
              "  <style>\n",
              "    .colab-df-container {\n",
              "      display:flex;\n",
              "      flex-wrap:wrap;\n",
              "      gap: 12px;\n",
              "    }\n",
              "\n",
              "    .colab-df-convert {\n",
              "      background-color: #E8F0FE;\n",
              "      border: none;\n",
              "      border-radius: 50%;\n",
              "      cursor: pointer;\n",
              "      display: none;\n",
              "      fill: #1967D2;\n",
              "      height: 32px;\n",
              "      padding: 0 0 0 0;\n",
              "      width: 32px;\n",
              "    }\n",
              "\n",
              "    .colab-df-convert:hover {\n",
              "      background-color: #E2EBFA;\n",
              "      box-shadow: 0px 1px 2px rgba(60, 64, 67, 0.3), 0px 1px 3px 1px rgba(60, 64, 67, 0.15);\n",
              "      fill: #174EA6;\n",
              "    }\n",
              "\n",
              "    [theme=dark] .colab-df-convert {\n",
              "      background-color: #3B4455;\n",
              "      fill: #D2E3FC;\n",
              "    }\n",
              "\n",
              "    [theme=dark] .colab-df-convert:hover {\n",
              "      background-color: #434B5C;\n",
              "      box-shadow: 0px 1px 3px 1px rgba(0, 0, 0, 0.15);\n",
              "      filter: drop-shadow(0px 1px 2px rgba(0, 0, 0, 0.3));\n",
              "      fill: #FFFFFF;\n",
              "    }\n",
              "  </style>\n",
              "\n",
              "      <script>\n",
              "        const buttonEl =\n",
              "          document.querySelector('#df-c078b676-9b01-410d-9af8-54b086184d03 button.colab-df-convert');\n",
              "        buttonEl.style.display =\n",
              "          google.colab.kernel.accessAllowed ? 'block' : 'none';\n",
              "\n",
              "        async function convertToInteractive(key) {\n",
              "          const element = document.querySelector('#df-c078b676-9b01-410d-9af8-54b086184d03');\n",
              "          const dataTable =\n",
              "            await google.colab.kernel.invokeFunction('convertToInteractive',\n",
              "                                                     [key], {});\n",
              "          if (!dataTable) return;\n",
              "\n",
              "          const docLinkHtml = 'Like what you see? Visit the ' +\n",
              "            '<a target=\"_blank\" href=https://colab.research.google.com/notebooks/data_table.ipynb>data table notebook</a>'\n",
              "            + ' to learn more about interactive tables.';\n",
              "          element.innerHTML = '';\n",
              "          dataTable['output_type'] = 'display_data';\n",
              "          await google.colab.output.renderOutput(dataTable, element);\n",
              "          const docLink = document.createElement('div');\n",
              "          docLink.innerHTML = docLinkHtml;\n",
              "          element.appendChild(docLink);\n",
              "        }\n",
              "      </script>\n",
              "    </div>\n",
              "  </div>\n",
              "  "
            ]
          },
          "metadata": {},
          "execution_count": 122
        }
      ]
    },
    {
      "cell_type": "code",
      "source": [
        "plt.figure(figsize=(12,10))\n",
        "cor=df.corr()\n",
        "sns.heatmap(cor,annot=True)\n",
        "plt.show()"
      ],
      "metadata": {
        "colab": {
          "base_uri": "https://localhost:8080/",
          "height": 678
        },
        "id": "2Kz9cpHiJXhY",
        "outputId": "082dc96d-41c1-45d6-e093-1b5e75e4c9b2"
      },
      "execution_count": null,
      "outputs": [
        {
          "output_type": "display_data",
          "data": {
            "text/plain": [
              "<Figure size 864x720 with 2 Axes>"
            ],
            "image/png": "[encoded data removed]"
          },
          "metadata": {
            "needs_background": "light"
          }
        }
      ]
    },
    {
      "cell_type": "code",
      "source": [
        "def correlation(dataset, threshold):\n",
        "  col_corr = set()\n",
        "  corr_matrix = dataset.corr()\n",
        "  for i in range(len(corr_matrix.columns)):\n",
        "    for j in range(i):\n",
        "      if abs(corr_matrix.iloc[i, j])> threshold:\n",
        "        colname = corr_matrix.columns[i] \n",
        "        col_corr.add(colname)\n",
        "  return col_corr\n",
        "  "
      ],
      "metadata": {
        "id": "Muz3fG9ohpr8"
      },
      "execution_count": null,
      "outputs": []
    },
    {
      "cell_type": "code",
      "source": [
        "corr_features= correlation(data, 0.5)"
      ],
      "metadata": {
        "id": "QPic4ULdBPDO"
      },
      "execution_count": null,
      "outputs": []
    },
    {
      "cell_type": "code",
      "source": [
        "corr_features"
      ],
      "metadata": {
        "colab": {
          "base_uri": "https://localhost:8080/"
        },
        "id": "DhExbG7_BjZb",
        "outputId": "8b4851ff-4238-4d12-ce45-9cf316f82a96"
      },
      "execution_count": null,
      "outputs": [
        {
          "output_type": "execute_result",
          "data": {
            "text/plain": [
              "{'CCAvg', 'Experience', 'Personal Loan'}"
            ]
          },
          "metadata": {},
          "execution_count": 126
        }
      ]
    },
    {
      "cell_type": "code",
      "source": [
        "data.drop([\"CCAvg\",\"Experience\"],axis=1,inplace=True)"
      ],
      "metadata": {
        "id": "F0TB9Zd5BpA0"
      },
      "execution_count": null,
      "outputs": []
    },
    {
      "cell_type": "code",
      "source": [
        "data.info()"
      ],
      "metadata": {
        "colab": {
          "base_uri": "https://localhost:8080/"
        },
        "id": "zuPikW4ROjku",
        "outputId": "11d6f4dd-1a16-4a85-a535-509e1e02d380"
      },
      "execution_count": null,
      "outputs": [
        {
          "output_type": "stream",
          "name": "stdout",
          "text": [
            "<class 'pandas.core.frame.DataFrame'>\n",
            "RangeIndex: 5000 entries, 0 to 4999\n",
            "Data columns (total 11 columns):\n",
            " #   Column              Non-Null Count  Dtype\n",
            "---  ------              --------------  -----\n",
            " 0   ID                  5000 non-null   int64\n",
            " 1   Age                 5000 non-null   int64\n",
            " 2   Income              5000 non-null   int64\n",
            " 3   Family              5000 non-null   int64\n",
            " 4   Education           5000 non-null   int64\n",
            " 5   Mortgage            5000 non-null   int64\n",
            " 6   Securities Account  5000 non-null   int64\n",
            " 7   CD Account          5000 non-null   int64\n",
            " 8   Online              5000 non-null   int64\n",
            " 9   CreditCard          5000 non-null   int64\n",
            " 10  Personal Loan       5000 non-null   int64\n",
            "dtypes: int64(11)\n",
            "memory usage: 429.8 KB\n"
          ]
        }
      ]
    },
    {
      "cell_type": "code",
      "source": [
        "data.head()"
      ],
      "metadata": {
        "colab": {
          "base_uri": "https://localhost:8080/",
          "height": 206
        },
        "id": "SuQw5Xl7Ojoc",
        "outputId": "8eb26a41-92b5-45c0-c2cb-c1e224c081c9"
      },
      "execution_count": null,
      "outputs": [
        {
          "output_type": "execute_result",
          "data": {
            "text/plain": [
              "   ID  Age  Income  Family  Education  Mortgage  Securities Account  \\\n",
              "0   1   25      49       4          1         0                   1   \n",
              "1   2   45      34       3          1         0                   1   \n",
              "2   3   39      11       1          1         0                   0   \n",
              "3   4   35     100       1          2         0                   0   \n",
              "4   5   35      45       4          2         0                   0   \n",
              "\n",
              "   CD Account  Online  CreditCard  Personal Loan  \n",
              "0           0       0           0              0  \n",
              "1           0       0           0              0  \n",
              "2           0       0           0              0  \n",
              "3           0       0           0              0  \n",
              "4           0       0           1              0  "
            ],
            "text/html": [
              "\n",
              "  <div id=\"df-badb03c1-c2e6-461e-aedb-5af4139e38a8\">\n",
              "    <div class=\"colab-df-container\">\n",
              "      <div>\n",
              "<style scoped>\n",
              "    .dataframe tbody tr th:only-of-type {\n",
              "        vertical-align: middle;\n",
              "    }\n",
              "\n",
              "    .dataframe tbody tr th {\n",
              "        vertical-align: top;\n",
              "    }\n",
              "\n",
              "    .dataframe thead th {\n",
              "        text-align: right;\n",
              "    }\n",
              "</style>\n",
              "<table border=\"1\" class=\"dataframe\">\n",
              "  <thead>\n",
              "    <tr style=\"text-align: right;\">\n",
              "      <th></th>\n",
              "      <th>ID</th>\n",
              "      <th>Age</th>\n",
              "      <th>Income</th>\n",
              "      <th>Family</th>\n",
              "      <th>Education</th>\n",
              "      <th>Mortgage</th>\n",
              "      <th>Securities Account</th>\n",
              "      <th>CD Account</th>\n",
              "      <th>Online</th>\n",
              "      <th>CreditCard</th>\n",
              "      <th>Personal Loan</th>\n",
              "    </tr>\n",
              "  </thead>\n",
              "  <tbody>\n",
              "    <tr>\n",
              "      <th>0</th>\n",
              "      <td>1</td>\n",
              "      <td>25</td>\n",
              "      <td>49</td>\n",
              "      <td>4</td>\n",
              "      <td>1</td>\n",
              "      <td>0</td>\n",
              "      <td>1</td>\n",
              "      <td>0</td>\n",
              "      <td>0</td>\n",
              "      <td>0</td>\n",
              "      <td>0</td>\n",
              "    </tr>\n",
              "    <tr>\n",
              "      <th>1</th>\n",
              "      <td>2</td>\n",
              "      <td>45</td>\n",
              "      <td>34</td>\n",
              "      <td>3</td>\n",
              "      <td>1</td>\n",
              "      <td>0</td>\n",
              "      <td>1</td>\n",
              "      <td>0</td>\n",
              "      <td>0</td>\n",
              "      <td>0</td>\n",
              "      <td>0</td>\n",
              "    </tr>\n",
              "    <tr>\n",
              "      <th>2</th>\n",
              "      <td>3</td>\n",
              "      <td>39</td>\n",
              "      <td>11</td>\n",
              "      <td>1</td>\n",
              "      <td>1</td>\n",
              "      <td>0</td>\n",
              "      <td>0</td>\n",
              "      <td>0</td>\n",
              "      <td>0</td>\n",
              "      <td>0</td>\n",
              "      <td>0</td>\n",
              "    </tr>\n",
              "    <tr>\n",
              "      <th>3</th>\n",
              "      <td>4</td>\n",
              "      <td>35</td>\n",
              "      <td>100</td>\n",
              "      <td>1</td>\n",
              "      <td>2</td>\n",
              "      <td>0</td>\n",
              "      <td>0</td>\n",
              "      <td>0</td>\n",
              "      <td>0</td>\n",
              "      <td>0</td>\n",
              "      <td>0</td>\n",
              "    </tr>\n",
              "    <tr>\n",
              "      <th>4</th>\n",
              "      <td>5</td>\n",
              "      <td>35</td>\n",
              "      <td>45</td>\n",
              "      <td>4</td>\n",
              "      <td>2</td>\n",
              "      <td>0</td>\n",
              "      <td>0</td>\n",
              "      <td>0</td>\n",
              "      <td>0</td>\n",
              "      <td>1</td>\n",
              "      <td>0</td>\n",
              "    </tr>\n",
              "  </tbody>\n",
              "</table>\n",
              "</div>\n",
              "      <button class=\"colab-df-convert\" onclick=\"convertToInteractive('df-badb03c1-c2e6-461e-aedb-5af4139e38a8')\"\n",
              "              title=\"Convert this dataframe to an interactive table.\"\n",
              "              style=\"display:none;\">\n",
              "        \n",
              "  <svg xmlns=\"http://www.w3.org/2000/svg\" height=\"24px\"viewBox=\"0 0 24 24\"\n",
              "       width=\"24px\">\n",
              "    <path d=\"M0 0h24v24H0V0z\" fill=\"none\"/>\n",
              "    <path d=\"M18.56 5.44l.94 2.06.94-2.06 2.06-.94-2.06-.94-.94-2.06-.94 2.06-2.06.94zm-11 1L8.5 8.5l.94-2.06 2.06-.94-2.06-.94L8.5 2.5l-.94 2.06-2.06.94zm10 10l.94 2.06.94-2.06 2.06-.94-2.06-.94-.94-2.06-.94 2.06-2.06.94z\"/><path d=\"M17.41 7.96l-1.37-1.37c-.4-.4-.92-.59-1.43-.59-.52 0-1.04.2-1.43.59L10.3 9.45l-7.72 7.72c-.78.78-.78 2.05 0 2.83L4 21.41c.39.39.9.59 1.41.59.51 0 1.02-.2 1.41-.59l7.78-7.78 2.81-2.81c.8-.78.8-2.07 0-2.86zM5.41 20L4 18.59l7.72-7.72 1.47 1.35L5.41 20z\"/>\n",
              "  </svg>\n",
              "      </button>\n",
              "      \n",
              "  <style>\n",
              "    .colab-df-container {\n",
              "      display:flex;\n",
              "      flex-wrap:wrap;\n",
              "      gap: 12px;\n",
              "    }\n",
              "\n",
              "    .colab-df-convert {\n",
              "      background-color: #E8F0FE;\n",
              "      border: none;\n",
              "      border-radius: 50%;\n",
              "      cursor: pointer;\n",
              "      display: none;\n",
              "      fill: #1967D2;\n",
              "      height: 32px;\n",
              "      padding: 0 0 0 0;\n",
              "      width: 32px;\n",
              "    }\n",
              "\n",
              "    .colab-df-convert:hover {\n",
              "      background-color: #E2EBFA;\n",
              "      box-shadow: 0px 1px 2px rgba(60, 64, 67, 0.3), 0px 1px 3px 1px rgba(60, 64, 67, 0.15);\n",
              "      fill: #174EA6;\n",
              "    }\n",
              "\n",
              "    [theme=dark] .colab-df-convert {\n",
              "      background-color: #3B4455;\n",
              "      fill: #D2E3FC;\n",
              "    }\n",
              "\n",
              "    [theme=dark] .colab-df-convert:hover {\n",
              "      background-color: #434B5C;\n",
              "      box-shadow: 0px 1px 3px 1px rgba(0, 0, 0, 0.15);\n",
              "      filter: drop-shadow(0px 1px 2px rgba(0, 0, 0, 0.3));\n",
              "      fill: #FFFFFF;\n",
              "    }\n",
              "  </style>\n",
              "\n",
              "      <script>\n",
              "        const buttonEl =\n",
              "          document.querySelector('#df-badb03c1-c2e6-461e-aedb-5af4139e38a8 button.colab-df-convert');\n",
              "        buttonEl.style.display =\n",
              "          google.colab.kernel.accessAllowed ? 'block' : 'none';\n",
              "\n",
              "        async function convertToInteractive(key) {\n",
              "          const element = document.querySelector('#df-badb03c1-c2e6-461e-aedb-5af4139e38a8');\n",
              "          const dataTable =\n",
              "            await google.colab.kernel.invokeFunction('convertToInteractive',\n",
              "                                                     [key], {});\n",
              "          if (!dataTable) return;\n",
              "\n",
              "          const docLinkHtml = 'Like what you see? Visit the ' +\n",
              "            '<a target=\"_blank\" href=https://colab.research.google.com/notebooks/data_table.ipynb>data table notebook</a>'\n",
              "            + ' to learn more about interactive tables.';\n",
              "          element.innerHTML = '';\n",
              "          dataTable['output_type'] = 'display_data';\n",
              "          await google.colab.output.renderOutput(dataTable, element);\n",
              "          const docLink = document.createElement('div');\n",
              "          docLink.innerHTML = docLinkHtml;\n",
              "          element.appendChild(docLink);\n",
              "        }\n",
              "      </script>\n",
              "    </div>\n",
              "  </div>\n",
              "  "
            ]
          },
          "metadata": {},
          "execution_count": 129
        }
      ]
    },
    {
      "cell_type": "code",
      "source": [
        "from sklearn.model_selection import train_test_split\n",
        "X=data.drop(['Personal Loan'],axis=1)\n",
        "Y=data['Personal Loan']\n",
        "X.shape\n",
        "#Y.head()"
      ],
      "metadata": {
        "id": "XrHcDSe5Ojrl",
        "colab": {
          "base_uri": "https://localhost:8080/"
        },
        "outputId": "b8d670a3-e472-48ff-ce04-a4ffbcbe23cf"
      },
      "execution_count": null,
      "outputs": [
        {
          "output_type": "execute_result",
          "data": {
            "text/plain": [
              "(5000, 10)"
            ]
          },
          "metadata": {},
          "execution_count": 130
        }
      ]
    },
    {
      "cell_type": "code",
      "source": [
        "X_train, X_test, y_train, y_test = train_test_split(\n",
        "X, Y, test_size=0.3, random_state=42)"
      ],
      "metadata": {
        "id": "T-zK7fidoYCE"
      },
      "execution_count": null,
      "outputs": []
    },
    {
      "cell_type": "code",
      "source": [
        "print(X_train.shape,X_test.shape,y_train.shape,y_test.shape)"
      ],
      "metadata": {
        "colab": {
          "base_uri": "https://localhost:8080/"
        },
        "id": "GV9923q-oYEr",
        "outputId": "a8fe5574-d6c1-45f0-d3e6-7fd8930bcc33"
      },
      "execution_count": null,
      "outputs": [
        {
          "output_type": "stream",
          "name": "stdout",
          "text": [
            "(3500, 10) (1500, 10) (3500,) (1500,)\n"
          ]
        }
      ]
    },
    {
      "cell_type": "code",
      "source": [
        "from sklearn.linear_model import LogisticRegression\n",
        "from sklearn.neighbors import KNeighborsClassifier\n",
        "from sklearn.metrics import precision_score, recall_score, f1_score, accuracy_score\n",
        "from sklearn.metrics import precision_score\n",
        "from sklearn.metrics import confusion_matrix\n",
        "from sklearn.naive_bayes import GaussianNB\n",
        "from sklearn.tree import DecisionTreeClassifier\n"
      ],
      "metadata": {
        "id": "m8_W_bdIoYHo"
      },
      "execution_count": null,
      "outputs": []
    },
    {
      "cell_type": "code",
      "source": [
        "#model=LogisticRegression()\n",
        "model1=KNeighborsClassifier(n_neighbors=3)\n",
        "model2=GaussianNB()\n",
        "model3=DecisionTreeClassifier()"
      ],
      "metadata": {
        "id": "TikllzEwoYI5"
      },
      "execution_count": null,
      "outputs": []
    },
    {
      "cell_type": "code",
      "source": [
        "#model.fit(X_train,y_train)\n",
        "model1.fit(X_train,y_train)\n",
        "model2.fit(X_train,y_train)\n",
        "model3.fit(X_train,y_train)"
      ],
      "metadata": {
        "colab": {
          "base_uri": "https://localhost:8080/"
        },
        "id": "nG26MgQCoYLN",
        "outputId": "a1058978-ff05-40b4-c848-2bf4c8667d6e"
      },
      "execution_count": null,
      "outputs": [
        {
          "output_type": "execute_result",
          "data": {
            "text/plain": [
              "DecisionTreeClassifier()"
            ]
          },
          "metadata": {},
          "execution_count": 135
        }
      ]
    },
    {
      "cell_type": "code",
      "source": [
        "X_train_prediction=model1.predict(X_train)\n",
        "training_data_accuracy_KNN=accuracy_score(X_train_prediction,y_train)\n",
        "training_data_accuracy_KNN"
      ],
      "metadata": {
        "colab": {
          "base_uri": "https://localhost:8080/"
        },
        "id": "3Grt-S2WopuP",
        "outputId": "ee2e7824-90b0-4629-d3b4-11e48dd3be42"
      },
      "execution_count": null,
      "outputs": [
        {
          "output_type": "execute_result",
          "data": {
            "text/plain": [
              "0.9342857142857143"
            ]
          },
          "metadata": {},
          "execution_count": 136
        }
      ]
    },
    {
      "cell_type": "code",
      "source": [
        "X_test_prediction=model1.predict(X_test)\n",
        "test_data_accuracy=accuracy_score(y_test,X_test_prediction)\n",
        "print(\"KNN algorithm:\",test_data_accuracy)\n",
        "test_data_precision=precision_score(y_test,X_test_prediction)\n",
        "print(\"KNN algorithm:\",test_data_precision)\n",
        "test_data_recall=recall_score(y_test,X_test_prediction)\n",
        "print(\"KNN algorithm:\",test_data_recall)"
      ],
      "metadata": {
        "colab": {
          "base_uri": "https://localhost:8080/"
        },
        "id": "1FwtSNr6oszX",
        "outputId": "76996f51-57e0-49d6-aa01-d88dc147eb3b"
      },
      "execution_count": null,
      "outputs": [
        {
          "output_type": "stream",
          "name": "stdout",
          "text": [
            "KNN algorithm: 0.8806666666666667\n",
            "KNN algorithm: 0.3804347826086957\n",
            "KNN algorithm: 0.2229299363057325\n"
          ]
        }
      ]
    },
    {
      "cell_type": "code",
      "source": [
        "X_train_prediction=model2.predict(X_train)\n",
        "training_data_accuracy_GB=accuracy_score(X_train_prediction,y_train)\n",
        "print(\"gaussian alg:\",training_data_accuracy_GB)\n"
      ],
      "metadata": {
        "colab": {
          "base_uri": "https://localhost:8080/"
        },
        "id": "CGz_BDLjovqf",
        "outputId": "92779e79-d499-4bde-e4eb-be4ee2b8d3f6"
      },
      "execution_count": null,
      "outputs": [
        {
          "output_type": "stream",
          "name": "stdout",
          "text": [
            "gaussian alg: 0.9014285714285715\n"
          ]
        }
      ]
    },
    {
      "cell_type": "code",
      "source": [
        "X_train_prediction=model3.predict(X_train)\n",
        "training_data_accuracy_DT=accuracy_score(X_train_prediction,y_train)\n",
        "training_data_accuracy_DT"
      ],
      "metadata": {
        "colab": {
          "base_uri": "https://localhost:8080/"
        },
        "id": "H582mDJdoy9X",
        "outputId": "d10d7d8a-7259-49df-e6be-862b24a1b6fa"
      },
      "execution_count": null,
      "outputs": [
        {
          "output_type": "execute_result",
          "data": {
            "text/plain": [
              "1.0"
            ]
          },
          "metadata": {},
          "execution_count": 144
        }
      ]
    },
    {
      "cell_type": "code",
      "source": [
        "X_test_prediction=model3.predict(X_test)\n",
        "test_data_accuracy_DT=accuracy_score(y_test,X_test_prediction)\n",
        "print(\"decision algorithm:\",test_data_accuracy)\n",
        "test_data_precision_DT=precision_score(y_test,X_test_prediction)\n",
        "print(\"decision algorithm:\",test_data_precision_DT)\n",
        "test_data_recall_DT=recall_score(y_test,X_test_prediction)\n",
        "print(\"decision algorithm:\",test_data_recall_DT)"
      ],
      "metadata": {
        "colab": {
          "base_uri": "https://localhost:8080/"
        },
        "id": "5IzwGEKGo1MP",
        "outputId": "21e65380-c125-4cf4-b7ae-708854a7eabd"
      },
      "execution_count": null,
      "outputs": [
        {
          "output_type": "stream",
          "name": "stdout",
          "text": [
            "decision algorithm: 0.8806666666666667\n",
            "decision algorithm: 0.8701298701298701\n",
            "decision algorithm: 0.8535031847133758\n"
          ]
        }
      ]
    },
    {
      "cell_type": "code",
      "source": [
        ""
      ],
      "metadata": {
        "id": "ALVHeLs6o9hX"
      },
      "execution_count": null,
      "outputs": []
    }
  ]
}